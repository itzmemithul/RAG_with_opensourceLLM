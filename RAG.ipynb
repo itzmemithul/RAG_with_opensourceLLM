{
  "nbformat": 4,
  "nbformat_minor": 0,
  "metadata": {
    "colab": {
      "provenance": [],
      "gpuType": "T4"
    },
    "kernelspec": {
      "name": "python3",
      "display_name": "Python 3"
    },
    "language_info": {
      "name": "python"
    },
    "accelerator": "GPU"
  },
  "cells": [
    {
      "cell_type": "code",
      "execution_count": null,
      "metadata": {
        "colab": {
          "base_uri": "https://localhost:8080/"
        },
        "id": "5nOHHd9U2GaF",
        "outputId": "732a12ff-136f-4d99-f741-46503af25c44"
      },
      "outputs": [
        {
          "output_type": "stream",
          "name": "stdout",
          "text": [
            "Collecting openai\n",
            "  Downloading openai-1.17.1-py3-none-any.whl (268 kB)\n",
            "\u001b[2K     \u001b[90m━━━━━━━━━━━━━━━━━━━━━━━━━━━━━━━━━━━━━━━━\u001b[0m \u001b[32m268.3/268.3 kB\u001b[0m \u001b[31m4.0 MB/s\u001b[0m eta \u001b[36m0:00:00\u001b[0m\n",
            "\u001b[?25hRequirement already satisfied: anyio<5,>=3.5.0 in /usr/local/lib/python3.10/dist-packages (from openai) (3.7.1)\n",
            "Requirement already satisfied: distro<2,>=1.7.0 in /usr/lib/python3/dist-packages (from openai) (1.7.0)\n",
            "Collecting httpx<1,>=0.23.0 (from openai)\n",
            "  Downloading httpx-0.27.0-py3-none-any.whl (75 kB)\n",
            "\u001b[2K     \u001b[90m━━━━━━━━━━━━━━━━━━━━━━━━━━━━━━━━━━━━━━━━\u001b[0m \u001b[32m75.6/75.6 kB\u001b[0m \u001b[31m12.0 MB/s\u001b[0m eta \u001b[36m0:00:00\u001b[0m\n",
            "\u001b[?25hRequirement already satisfied: pydantic<3,>=1.9.0 in /usr/local/lib/python3.10/dist-packages (from openai) (2.6.4)\n",
            "Requirement already satisfied: sniffio in /usr/local/lib/python3.10/dist-packages (from openai) (1.3.1)\n",
            "Requirement already satisfied: tqdm>4 in /usr/local/lib/python3.10/dist-packages (from openai) (4.66.2)\n",
            "Requirement already satisfied: typing-extensions<5,>=4.7 in /usr/local/lib/python3.10/dist-packages (from openai) (4.11.0)\n",
            "Requirement already satisfied: idna>=2.8 in /usr/local/lib/python3.10/dist-packages (from anyio<5,>=3.5.0->openai) (3.6)\n",
            "Requirement already satisfied: exceptiongroup in /usr/local/lib/python3.10/dist-packages (from anyio<5,>=3.5.0->openai) (1.2.0)\n",
            "Requirement already satisfied: certifi in /usr/local/lib/python3.10/dist-packages (from httpx<1,>=0.23.0->openai) (2024.2.2)\n",
            "Collecting httpcore==1.* (from httpx<1,>=0.23.0->openai)\n",
            "  Downloading httpcore-1.0.5-py3-none-any.whl (77 kB)\n",
            "\u001b[2K     \u001b[90m━━━━━━━━━━━━━━━━━━━━━━━━━━━━━━━━━━━━━━━━\u001b[0m \u001b[32m77.9/77.9 kB\u001b[0m \u001b[31m11.8 MB/s\u001b[0m eta \u001b[36m0:00:00\u001b[0m\n",
            "\u001b[?25hCollecting h11<0.15,>=0.13 (from httpcore==1.*->httpx<1,>=0.23.0->openai)\n",
            "  Downloading h11-0.14.0-py3-none-any.whl (58 kB)\n",
            "\u001b[2K     \u001b[90m━━━━━━━━━━━━━━━━━━━━━━━━━━━━━━━━━━━━━━━━\u001b[0m \u001b[32m58.3/58.3 kB\u001b[0m \u001b[31m9.5 MB/s\u001b[0m eta \u001b[36m0:00:00\u001b[0m\n",
            "\u001b[?25hRequirement already satisfied: annotated-types>=0.4.0 in /usr/local/lib/python3.10/dist-packages (from pydantic<3,>=1.9.0->openai) (0.6.0)\n",
            "Requirement already satisfied: pydantic-core==2.16.3 in /usr/local/lib/python3.10/dist-packages (from pydantic<3,>=1.9.0->openai) (2.16.3)\n",
            "Installing collected packages: h11, httpcore, httpx, openai\n",
            "Successfully installed h11-0.14.0 httpcore-1.0.5 httpx-0.27.0 openai-1.17.1\n",
            "Collecting langchain\n",
            "  Downloading langchain-0.1.16-py3-none-any.whl (817 kB)\n",
            "\u001b[2K     \u001b[90m━━━━━━━━━━━━━━━━━━━━━━━━━━━━━━━━━━━━━━━━\u001b[0m \u001b[32m817.7/817.7 kB\u001b[0m \u001b[31m8.5 MB/s\u001b[0m eta \u001b[36m0:00:00\u001b[0m\n",
            "\u001b[?25hRequirement already satisfied: PyYAML>=5.3 in /usr/local/lib/python3.10/dist-packages (from langchain) (6.0.1)\n",
            "Requirement already satisfied: SQLAlchemy<3,>=1.4 in /usr/local/lib/python3.10/dist-packages (from langchain) (2.0.29)\n",
            "Requirement already satisfied: aiohttp<4.0.0,>=3.8.3 in /usr/local/lib/python3.10/dist-packages (from langchain) (3.9.3)\n",
            "Requirement already satisfied: async-timeout<5.0.0,>=4.0.0 in /usr/local/lib/python3.10/dist-packages (from langchain) (4.0.3)\n",
            "Collecting dataclasses-json<0.7,>=0.5.7 (from langchain)\n",
            "  Downloading dataclasses_json-0.6.4-py3-none-any.whl (28 kB)\n",
            "Collecting jsonpatch<2.0,>=1.33 (from langchain)\n",
            "  Downloading jsonpatch-1.33-py2.py3-none-any.whl (12 kB)\n",
            "Collecting langchain-community<0.1,>=0.0.32 (from langchain)\n",
            "  Downloading langchain_community-0.0.32-py3-none-any.whl (1.9 MB)\n",
            "\u001b[2K     \u001b[90m━━━━━━━━━━━━━━━━━━━━━━━━━━━━━━━━━━━━━━━━\u001b[0m \u001b[32m1.9/1.9 MB\u001b[0m \u001b[31m63.1 MB/s\u001b[0m eta \u001b[36m0:00:00\u001b[0m\n",
            "\u001b[?25hCollecting langchain-core<0.2.0,>=0.1.42 (from langchain)\n",
            "  Downloading langchain_core-0.1.42-py3-none-any.whl (287 kB)\n",
            "\u001b[2K     \u001b[90m━━━━━━━━━━━━━━━━━━━━━━━━━━━━━━━━━━━━━━━━\u001b[0m \u001b[32m287.5/287.5 kB\u001b[0m \u001b[31m31.7 MB/s\u001b[0m eta \u001b[36m0:00:00\u001b[0m\n",
            "\u001b[?25hCollecting langchain-text-splitters<0.1,>=0.0.1 (from langchain)\n",
            "  Downloading langchain_text_splitters-0.0.1-py3-none-any.whl (21 kB)\n",
            "Collecting langsmith<0.2.0,>=0.1.17 (from langchain)\n",
            "  Downloading langsmith-0.1.47-py3-none-any.whl (113 kB)\n",
            "\u001b[2K     \u001b[90m━━━━━━━━━━━━━━━━━━━━━━━━━━━━━━━━━━━━━━━━\u001b[0m \u001b[32m113.0/113.0 kB\u001b[0m \u001b[31m16.3 MB/s\u001b[0m eta \u001b[36m0:00:00\u001b[0m\n",
            "\u001b[?25hRequirement already satisfied: numpy<2,>=1 in /usr/local/lib/python3.10/dist-packages (from langchain) (1.25.2)\n",
            "Requirement already satisfied: pydantic<3,>=1 in /usr/local/lib/python3.10/dist-packages (from langchain) (2.6.4)\n",
            "Requirement already satisfied: requests<3,>=2 in /usr/local/lib/python3.10/dist-packages (from langchain) (2.31.0)\n",
            "Requirement already satisfied: tenacity<9.0.0,>=8.1.0 in /usr/local/lib/python3.10/dist-packages (from langchain) (8.2.3)\n",
            "Requirement already satisfied: aiosignal>=1.1.2 in /usr/local/lib/python3.10/dist-packages (from aiohttp<4.0.0,>=3.8.3->langchain) (1.3.1)\n",
            "Requirement already satisfied: attrs>=17.3.0 in /usr/local/lib/python3.10/dist-packages (from aiohttp<4.0.0,>=3.8.3->langchain) (23.2.0)\n",
            "Requirement already satisfied: frozenlist>=1.1.1 in /usr/local/lib/python3.10/dist-packages (from aiohttp<4.0.0,>=3.8.3->langchain) (1.4.1)\n",
            "Requirement already satisfied: multidict<7.0,>=4.5 in /usr/local/lib/python3.10/dist-packages (from aiohttp<4.0.0,>=3.8.3->langchain) (6.0.5)\n",
            "Requirement already satisfied: yarl<2.0,>=1.0 in /usr/local/lib/python3.10/dist-packages (from aiohttp<4.0.0,>=3.8.3->langchain) (1.9.4)\n",
            "Collecting marshmallow<4.0.0,>=3.18.0 (from dataclasses-json<0.7,>=0.5.7->langchain)\n",
            "  Downloading marshmallow-3.21.1-py3-none-any.whl (49 kB)\n",
            "\u001b[2K     \u001b[90m━━━━━━━━━━━━━━━━━━━━━━━━━━━━━━━━━━━━━━━━\u001b[0m \u001b[32m49.4/49.4 kB\u001b[0m \u001b[31m7.2 MB/s\u001b[0m eta \u001b[36m0:00:00\u001b[0m\n",
            "\u001b[?25hCollecting typing-inspect<1,>=0.4.0 (from dataclasses-json<0.7,>=0.5.7->langchain)\n",
            "  Downloading typing_inspect-0.9.0-py3-none-any.whl (8.8 kB)\n",
            "Collecting jsonpointer>=1.9 (from jsonpatch<2.0,>=1.33->langchain)\n",
            "  Downloading jsonpointer-2.4-py2.py3-none-any.whl (7.8 kB)\n",
            "Collecting packaging<24.0,>=23.2 (from langchain-core<0.2.0,>=0.1.42->langchain)\n",
            "  Downloading packaging-23.2-py3-none-any.whl (53 kB)\n",
            "\u001b[2K     \u001b[90m━━━━━━━━━━━━━━━━━━━━━━━━━━━━━━━━━━━━━━━━\u001b[0m \u001b[32m53.0/53.0 kB\u001b[0m \u001b[31m7.9 MB/s\u001b[0m eta \u001b[36m0:00:00\u001b[0m\n",
            "\u001b[?25hCollecting orjson<4.0.0,>=3.9.14 (from langsmith<0.2.0,>=0.1.17->langchain)\n",
            "  Downloading orjson-3.10.0-cp310-cp310-manylinux_2_17_x86_64.manylinux2014_x86_64.whl (144 kB)\n",
            "\u001b[2K     \u001b[90m━━━━━━━━━━━━━━━━━━━━━━━━━━━━━━━━━━━━━━━━\u001b[0m \u001b[32m144.8/144.8 kB\u001b[0m \u001b[31m22.5 MB/s\u001b[0m eta \u001b[36m0:00:00\u001b[0m\n",
            "\u001b[?25hRequirement already satisfied: annotated-types>=0.4.0 in /usr/local/lib/python3.10/dist-packages (from pydantic<3,>=1->langchain) (0.6.0)\n",
            "Requirement already satisfied: pydantic-core==2.16.3 in /usr/local/lib/python3.10/dist-packages (from pydantic<3,>=1->langchain) (2.16.3)\n",
            "Requirement already satisfied: typing-extensions>=4.6.1 in /usr/local/lib/python3.10/dist-packages (from pydantic<3,>=1->langchain) (4.11.0)\n",
            "Requirement already satisfied: charset-normalizer<4,>=2 in /usr/local/lib/python3.10/dist-packages (from requests<3,>=2->langchain) (3.3.2)\n",
            "Requirement already satisfied: idna<4,>=2.5 in /usr/local/lib/python3.10/dist-packages (from requests<3,>=2->langchain) (3.6)\n",
            "Requirement already satisfied: urllib3<3,>=1.21.1 in /usr/local/lib/python3.10/dist-packages (from requests<3,>=2->langchain) (2.0.7)\n",
            "Requirement already satisfied: certifi>=2017.4.17 in /usr/local/lib/python3.10/dist-packages (from requests<3,>=2->langchain) (2024.2.2)\n",
            "Requirement already satisfied: greenlet!=0.4.17 in /usr/local/lib/python3.10/dist-packages (from SQLAlchemy<3,>=1.4->langchain) (3.0.3)\n",
            "Collecting mypy-extensions>=0.3.0 (from typing-inspect<1,>=0.4.0->dataclasses-json<0.7,>=0.5.7->langchain)\n",
            "  Downloading mypy_extensions-1.0.0-py3-none-any.whl (4.7 kB)\n",
            "Installing collected packages: packaging, orjson, mypy-extensions, jsonpointer, typing-inspect, marshmallow, jsonpatch, langsmith, dataclasses-json, langchain-core, langchain-text-splitters, langchain-community, langchain\n",
            "  Attempting uninstall: packaging\n",
            "    Found existing installation: packaging 24.0\n",
            "    Uninstalling packaging-24.0:\n",
            "      Successfully uninstalled packaging-24.0\n",
            "Successfully installed dataclasses-json-0.6.4 jsonpatch-1.33 jsonpointer-2.4 langchain-0.1.16 langchain-community-0.0.32 langchain-core-0.1.42 langchain-text-splitters-0.0.1 langsmith-0.1.47 marshmallow-3.21.1 mypy-extensions-1.0.0 orjson-3.10.0 packaging-23.2 typing-inspect-0.9.0\n",
            "Collecting langchain-openai\n",
            "  Downloading langchain_openai-0.1.3-py3-none-any.whl (33 kB)\n",
            "Requirement already satisfied: langchain-core<0.2.0,>=0.1.42 in /usr/local/lib/python3.10/dist-packages (from langchain-openai) (0.1.42)\n",
            "Requirement already satisfied: openai<2.0.0,>=1.10.0 in /usr/local/lib/python3.10/dist-packages (from langchain-openai) (1.17.1)\n",
            "Collecting tiktoken<1,>=0.5.2 (from langchain-openai)\n",
            "  Downloading tiktoken-0.6.0-cp310-cp310-manylinux_2_17_x86_64.manylinux2014_x86_64.whl (1.8 MB)\n",
            "\u001b[2K     \u001b[90m━━━━━━━━━━━━━━━━━━━━━━━━━━━━━━━━━━━━━━━━\u001b[0m \u001b[32m1.8/1.8 MB\u001b[0m \u001b[31m43.8 MB/s\u001b[0m eta \u001b[36m0:00:00\u001b[0m\n",
            "\u001b[?25hRequirement already satisfied: PyYAML>=5.3 in /usr/local/lib/python3.10/dist-packages (from langchain-core<0.2.0,>=0.1.42->langchain-openai) (6.0.1)\n",
            "Requirement already satisfied: jsonpatch<2.0,>=1.33 in /usr/local/lib/python3.10/dist-packages (from langchain-core<0.2.0,>=0.1.42->langchain-openai) (1.33)\n",
            "Requirement already satisfied: langsmith<0.2.0,>=0.1.0 in /usr/local/lib/python3.10/dist-packages (from langchain-core<0.2.0,>=0.1.42->langchain-openai) (0.1.47)\n",
            "Requirement already satisfied: packaging<24.0,>=23.2 in /usr/local/lib/python3.10/dist-packages (from langchain-core<0.2.0,>=0.1.42->langchain-openai) (23.2)\n",
            "Requirement already satisfied: pydantic<3,>=1 in /usr/local/lib/python3.10/dist-packages (from langchain-core<0.2.0,>=0.1.42->langchain-openai) (2.6.4)\n",
            "Requirement already satisfied: tenacity<9.0.0,>=8.1.0 in /usr/local/lib/python3.10/dist-packages (from langchain-core<0.2.0,>=0.1.42->langchain-openai) (8.2.3)\n",
            "Requirement already satisfied: anyio<5,>=3.5.0 in /usr/local/lib/python3.10/dist-packages (from openai<2.0.0,>=1.10.0->langchain-openai) (3.7.1)\n",
            "Requirement already satisfied: distro<2,>=1.7.0 in /usr/lib/python3/dist-packages (from openai<2.0.0,>=1.10.0->langchain-openai) (1.7.0)\n",
            "Requirement already satisfied: httpx<1,>=0.23.0 in /usr/local/lib/python3.10/dist-packages (from openai<2.0.0,>=1.10.0->langchain-openai) (0.27.0)\n",
            "Requirement already satisfied: sniffio in /usr/local/lib/python3.10/dist-packages (from openai<2.0.0,>=1.10.0->langchain-openai) (1.3.1)\n",
            "Requirement already satisfied: tqdm>4 in /usr/local/lib/python3.10/dist-packages (from openai<2.0.0,>=1.10.0->langchain-openai) (4.66.2)\n",
            "Requirement already satisfied: typing-extensions<5,>=4.7 in /usr/local/lib/python3.10/dist-packages (from openai<2.0.0,>=1.10.0->langchain-openai) (4.11.0)\n",
            "Requirement already satisfied: regex>=2022.1.18 in /usr/local/lib/python3.10/dist-packages (from tiktoken<1,>=0.5.2->langchain-openai) (2023.12.25)\n",
            "Requirement already satisfied: requests>=2.26.0 in /usr/local/lib/python3.10/dist-packages (from tiktoken<1,>=0.5.2->langchain-openai) (2.31.0)\n",
            "Requirement already satisfied: idna>=2.8 in /usr/local/lib/python3.10/dist-packages (from anyio<5,>=3.5.0->openai<2.0.0,>=1.10.0->langchain-openai) (3.6)\n",
            "Requirement already satisfied: exceptiongroup in /usr/local/lib/python3.10/dist-packages (from anyio<5,>=3.5.0->openai<2.0.0,>=1.10.0->langchain-openai) (1.2.0)\n",
            "Requirement already satisfied: certifi in /usr/local/lib/python3.10/dist-packages (from httpx<1,>=0.23.0->openai<2.0.0,>=1.10.0->langchain-openai) (2024.2.2)\n",
            "Requirement already satisfied: httpcore==1.* in /usr/local/lib/python3.10/dist-packages (from httpx<1,>=0.23.0->openai<2.0.0,>=1.10.0->langchain-openai) (1.0.5)\n",
            "Requirement already satisfied: h11<0.15,>=0.13 in /usr/local/lib/python3.10/dist-packages (from httpcore==1.*->httpx<1,>=0.23.0->openai<2.0.0,>=1.10.0->langchain-openai) (0.14.0)\n",
            "Requirement already satisfied: jsonpointer>=1.9 in /usr/local/lib/python3.10/dist-packages (from jsonpatch<2.0,>=1.33->langchain-core<0.2.0,>=0.1.42->langchain-openai) (2.4)\n",
            "Requirement already satisfied: orjson<4.0.0,>=3.9.14 in /usr/local/lib/python3.10/dist-packages (from langsmith<0.2.0,>=0.1.0->langchain-core<0.2.0,>=0.1.42->langchain-openai) (3.10.0)\n",
            "Requirement already satisfied: annotated-types>=0.4.0 in /usr/local/lib/python3.10/dist-packages (from pydantic<3,>=1->langchain-core<0.2.0,>=0.1.42->langchain-openai) (0.6.0)\n",
            "Requirement already satisfied: pydantic-core==2.16.3 in /usr/local/lib/python3.10/dist-packages (from pydantic<3,>=1->langchain-core<0.2.0,>=0.1.42->langchain-openai) (2.16.3)\n",
            "Requirement already satisfied: charset-normalizer<4,>=2 in /usr/local/lib/python3.10/dist-packages (from requests>=2.26.0->tiktoken<1,>=0.5.2->langchain-openai) (3.3.2)\n",
            "Requirement already satisfied: urllib3<3,>=1.21.1 in /usr/local/lib/python3.10/dist-packages (from requests>=2.26.0->tiktoken<1,>=0.5.2->langchain-openai) (2.0.7)\n",
            "Installing collected packages: tiktoken, langchain-openai\n",
            "Successfully installed langchain-openai-0.1.3 tiktoken-0.6.0\n",
            "Collecting pypdf\n",
            "  Downloading pypdf-4.2.0-py3-none-any.whl (290 kB)\n",
            "\u001b[2K     \u001b[90m━━━━━━━━━━━━━━━━━━━━━━━━━━━━━━━━━━━━━━━━\u001b[0m \u001b[32m290.4/290.4 kB\u001b[0m \u001b[31m6.4 MB/s\u001b[0m eta \u001b[36m0:00:00\u001b[0m\n",
            "\u001b[?25hRequirement already satisfied: typing_extensions>=4.0 in /usr/local/lib/python3.10/dist-packages (from pypdf) (4.11.0)\n",
            "Installing collected packages: pypdf\n",
            "Successfully installed pypdf-4.2.0\n",
            "Collecting chromadb\n",
            "  Downloading chromadb-0.4.24-py3-none-any.whl (525 kB)\n",
            "\u001b[2K     \u001b[90m━━━━━━━━━━━━━━━━━━━━━━━━━━━━━━━━━━━━━━━━\u001b[0m \u001b[32m525.5/525.5 kB\u001b[0m \u001b[31m12.0 MB/s\u001b[0m eta \u001b[36m0:00:00\u001b[0m\n",
            "\u001b[?25hRequirement already satisfied: build>=1.0.3 in /usr/local/lib/python3.10/dist-packages (from chromadb) (1.2.1)\n",
            "Requirement already satisfied: requests>=2.28 in /usr/local/lib/python3.10/dist-packages (from chromadb) (2.31.0)\n",
            "Requirement already satisfied: pydantic>=1.9 in /usr/local/lib/python3.10/dist-packages (from chromadb) (2.6.4)\n",
            "Collecting chroma-hnswlib==0.7.3 (from chromadb)\n",
            "  Downloading chroma_hnswlib-0.7.3-cp310-cp310-manylinux_2_17_x86_64.manylinux2014_x86_64.whl (2.4 MB)\n",
            "\u001b[2K     \u001b[90m━━━━━━━━━━━━━━━━━━━━━━━━━━━━━━━━━━━━━━━━\u001b[0m \u001b[32m2.4/2.4 MB\u001b[0m \u001b[31m80.3 MB/s\u001b[0m eta \u001b[36m0:00:00\u001b[0m\n",
            "\u001b[?25hCollecting fastapi>=0.95.2 (from chromadb)\n",
            "  Downloading fastapi-0.110.1-py3-none-any.whl (91 kB)\n",
            "\u001b[2K     \u001b[90m━━━━━━━━━━━━━━━━━━━━━━━━━━━━━━━━━━━━━━━━\u001b[0m \u001b[32m91.9/91.9 kB\u001b[0m \u001b[31m12.9 MB/s\u001b[0m eta \u001b[36m0:00:00\u001b[0m\n",
            "\u001b[?25hCollecting uvicorn[standard]>=0.18.3 (from chromadb)\n",
            "  Downloading uvicorn-0.29.0-py3-none-any.whl (60 kB)\n",
            "\u001b[2K     \u001b[90m━━━━━━━━━━━━━━━━━━━━━━━━━━━━━━━━━━━━━━━━\u001b[0m \u001b[32m60.8/60.8 kB\u001b[0m \u001b[31m9.4 MB/s\u001b[0m eta \u001b[36m0:00:00\u001b[0m\n",
            "\u001b[?25hRequirement already satisfied: numpy>=1.22.5 in /usr/local/lib/python3.10/dist-packages (from chromadb) (1.25.2)\n",
            "Collecting posthog>=2.4.0 (from chromadb)\n",
            "  Downloading posthog-3.5.0-py2.py3-none-any.whl (41 kB)\n",
            "\u001b[2K     \u001b[90m━━━━━━━━━━━━━━━━━━━━━━━━━━━━━━━━━━━━━━━━\u001b[0m \u001b[32m41.3/41.3 kB\u001b[0m \u001b[31m7.1 MB/s\u001b[0m eta \u001b[36m0:00:00\u001b[0m\n",
            "\u001b[?25hRequirement already satisfied: typing-extensions>=4.5.0 in /usr/local/lib/python3.10/dist-packages (from chromadb) (4.11.0)\n",
            "Collecting pulsar-client>=3.1.0 (from chromadb)\n",
            "  Downloading pulsar_client-3.5.0-cp310-cp310-manylinux_2_17_x86_64.manylinux2014_x86_64.whl (5.4 MB)\n",
            "\u001b[2K     \u001b[90m━━━━━━━━━━━━━━━━━━━━━━━━━━━━━━━━━━━━━━━━\u001b[0m \u001b[32m5.4/5.4 MB\u001b[0m \u001b[31m67.3 MB/s\u001b[0m eta \u001b[36m0:00:00\u001b[0m\n",
            "\u001b[?25hCollecting onnxruntime>=1.14.1 (from chromadb)\n",
            "  Downloading onnxruntime-1.17.3-cp310-cp310-manylinux_2_27_x86_64.manylinux_2_28_x86_64.whl (6.8 MB)\n",
            "\u001b[2K     \u001b[90m━━━━━━━━━━━━━━━━━━━━━━━━━━━━━━━━━━━━━━━━\u001b[0m \u001b[32m6.8/6.8 MB\u001b[0m \u001b[31m70.3 MB/s\u001b[0m eta \u001b[36m0:00:00\u001b[0m\n",
            "\u001b[?25hCollecting opentelemetry-api>=1.2.0 (from chromadb)\n",
            "  Downloading opentelemetry_api-1.24.0-py3-none-any.whl (60 kB)\n",
            "\u001b[2K     \u001b[90m━━━━━━━━━━━━━━━━━━━━━━━━━━━━━━━━━━━━━━━━\u001b[0m \u001b[32m60.1/60.1 kB\u001b[0m \u001b[31m9.7 MB/s\u001b[0m eta \u001b[36m0:00:00\u001b[0m\n",
            "\u001b[?25hCollecting opentelemetry-exporter-otlp-proto-grpc>=1.2.0 (from chromadb)\n",
            "  Downloading opentelemetry_exporter_otlp_proto_grpc-1.24.0-py3-none-any.whl (18 kB)\n",
            "Collecting opentelemetry-instrumentation-fastapi>=0.41b0 (from chromadb)\n",
            "  Downloading opentelemetry_instrumentation_fastapi-0.45b0-py3-none-any.whl (11 kB)\n",
            "Collecting opentelemetry-sdk>=1.2.0 (from chromadb)\n",
            "  Downloading opentelemetry_sdk-1.24.0-py3-none-any.whl (106 kB)\n",
            "\u001b[2K     \u001b[90m━━━━━━━━━━━━━━━━━━━━━━━━━━━━━━━━━━━━━━━━\u001b[0m \u001b[32m106.1/106.1 kB\u001b[0m \u001b[31m15.4 MB/s\u001b[0m eta \u001b[36m0:00:00\u001b[0m\n",
            "\u001b[?25hRequirement already satisfied: tokenizers>=0.13.2 in /usr/local/lib/python3.10/dist-packages (from chromadb) (0.15.2)\n",
            "Collecting pypika>=0.48.9 (from chromadb)\n",
            "  Downloading PyPika-0.48.9.tar.gz (67 kB)\n",
            "\u001b[2K     \u001b[90m━━━━━━━━━━━━━━━━━━━━━━━━━━━━━━━━━━━━━━━━\u001b[0m \u001b[32m67.3/67.3 kB\u001b[0m \u001b[31m9.6 MB/s\u001b[0m eta \u001b[36m0:00:00\u001b[0m\n",
            "\u001b[?25h  Installing build dependencies ... \u001b[?25l\u001b[?25hdone\n",
            "  Getting requirements to build wheel ... \u001b[?25l\u001b[?25hdone\n",
            "  Preparing metadata (pyproject.toml) ... \u001b[?25l\u001b[?25hdone\n",
            "Requirement already satisfied: tqdm>=4.65.0 in /usr/local/lib/python3.10/dist-packages (from chromadb) (4.66.2)\n",
            "Collecting overrides>=7.3.1 (from chromadb)\n",
            "  Downloading overrides-7.7.0-py3-none-any.whl (17 kB)\n",
            "Requirement already satisfied: importlib-resources in /usr/local/lib/python3.10/dist-packages (from chromadb) (6.4.0)\n",
            "Requirement already satisfied: grpcio>=1.58.0 in /usr/local/lib/python3.10/dist-packages (from chromadb) (1.62.1)\n",
            "Collecting bcrypt>=4.0.1 (from chromadb)\n",
            "  Downloading bcrypt-4.1.2-cp39-abi3-manylinux_2_28_x86_64.whl (698 kB)\n",
            "\u001b[2K     \u001b[90m━━━━━━━━━━━━━━━━━━━━━━━━━━━━━━━━━━━━━━━━\u001b[0m \u001b[32m698.9/698.9 kB\u001b[0m \u001b[31m54.4 MB/s\u001b[0m eta \u001b[36m0:00:00\u001b[0m\n",
            "\u001b[?25hRequirement already satisfied: typer>=0.9.0 in /usr/local/lib/python3.10/dist-packages (from chromadb) (0.9.4)\n",
            "Collecting kubernetes>=28.1.0 (from chromadb)\n",
            "  Downloading kubernetes-29.0.0-py2.py3-none-any.whl (1.6 MB)\n",
            "\u001b[2K     \u001b[90m━━━━━━━━━━━━━━━━━━━━━━━━━━━━━━━━━━━━━━━━\u001b[0m \u001b[32m1.6/1.6 MB\u001b[0m \u001b[31m87.2 MB/s\u001b[0m eta \u001b[36m0:00:00\u001b[0m\n",
            "\u001b[?25hRequirement already satisfied: tenacity>=8.2.3 in /usr/local/lib/python3.10/dist-packages (from chromadb) (8.2.3)\n",
            "Requirement already satisfied: PyYAML>=6.0.0 in /usr/local/lib/python3.10/dist-packages (from chromadb) (6.0.1)\n",
            "Collecting mmh3>=4.0.1 (from chromadb)\n",
            "  Downloading mmh3-4.1.0-cp310-cp310-manylinux_2_5_x86_64.manylinux1_x86_64.manylinux_2_17_x86_64.manylinux2014_x86_64.whl (67 kB)\n",
            "\u001b[2K     \u001b[90m━━━━━━━━━━━━━━━━━━━━━━━━━━━━━━━━━━━━━━━━\u001b[0m \u001b[32m67.6/67.6 kB\u001b[0m \u001b[31m10.3 MB/s\u001b[0m eta \u001b[36m0:00:00\u001b[0m\n",
            "\u001b[?25hRequirement already satisfied: orjson>=3.9.12 in /usr/local/lib/python3.10/dist-packages (from chromadb) (3.10.0)\n",
            "Requirement already satisfied: packaging>=19.1 in /usr/local/lib/python3.10/dist-packages (from build>=1.0.3->chromadb) (23.2)\n",
            "Requirement already satisfied: pyproject_hooks in /usr/local/lib/python3.10/dist-packages (from build>=1.0.3->chromadb) (1.0.0)\n",
            "Requirement already satisfied: tomli>=1.1.0 in /usr/local/lib/python3.10/dist-packages (from build>=1.0.3->chromadb) (2.0.1)\n",
            "Collecting starlette<0.38.0,>=0.37.2 (from fastapi>=0.95.2->chromadb)\n",
            "  Downloading starlette-0.37.2-py3-none-any.whl (71 kB)\n",
            "\u001b[2K     \u001b[90m━━━━━━━━━━━━━━━━━━━━━━━━━━━━━━━━━━━━━━━━\u001b[0m \u001b[32m71.9/71.9 kB\u001b[0m \u001b[31m11.3 MB/s\u001b[0m eta \u001b[36m0:00:00\u001b[0m\n",
            "\u001b[?25hRequirement already satisfied: certifi>=14.05.14 in /usr/local/lib/python3.10/dist-packages (from kubernetes>=28.1.0->chromadb) (2024.2.2)\n",
            "Requirement already satisfied: six>=1.9.0 in /usr/local/lib/python3.10/dist-packages (from kubernetes>=28.1.0->chromadb) (1.16.0)\n",
            "Requirement already satisfied: python-dateutil>=2.5.3 in /usr/local/lib/python3.10/dist-packages (from kubernetes>=28.1.0->chromadb) (2.8.2)\n",
            "Requirement already satisfied: google-auth>=1.0.1 in /usr/local/lib/python3.10/dist-packages (from kubernetes>=28.1.0->chromadb) (2.27.0)\n",
            "Requirement already satisfied: websocket-client!=0.40.0,!=0.41.*,!=0.42.*,>=0.32.0 in /usr/local/lib/python3.10/dist-packages (from kubernetes>=28.1.0->chromadb) (1.7.0)\n",
            "Requirement already satisfied: requests-oauthlib in /usr/local/lib/python3.10/dist-packages (from kubernetes>=28.1.0->chromadb) (1.3.1)\n",
            "Requirement already satisfied: oauthlib>=3.2.2 in /usr/local/lib/python3.10/dist-packages (from kubernetes>=28.1.0->chromadb) (3.2.2)\n",
            "Requirement already satisfied: urllib3>=1.24.2 in /usr/local/lib/python3.10/dist-packages (from kubernetes>=28.1.0->chromadb) (2.0.7)\n",
            "Collecting coloredlogs (from onnxruntime>=1.14.1->chromadb)\n",
            "  Downloading coloredlogs-15.0.1-py2.py3-none-any.whl (46 kB)\n",
            "\u001b[2K     \u001b[90m━━━━━━━━━━━━━━━━━━━━━━━━━━━━━━━━━━━━━━━━\u001b[0m \u001b[32m46.0/46.0 kB\u001b[0m \u001b[31m7.0 MB/s\u001b[0m eta \u001b[36m0:00:00\u001b[0m\n",
            "\u001b[?25hRequirement already satisfied: flatbuffers in /usr/local/lib/python3.10/dist-packages (from onnxruntime>=1.14.1->chromadb) (24.3.25)\n",
            "Requirement already satisfied: protobuf in /usr/local/lib/python3.10/dist-packages (from onnxruntime>=1.14.1->chromadb) (3.20.3)\n",
            "Requirement already satisfied: sympy in /usr/local/lib/python3.10/dist-packages (from onnxruntime>=1.14.1->chromadb) (1.12)\n",
            "Collecting deprecated>=1.2.6 (from opentelemetry-api>=1.2.0->chromadb)\n",
            "  Downloading Deprecated-1.2.14-py2.py3-none-any.whl (9.6 kB)\n",
            "Collecting importlib-metadata<=7.0,>=6.0 (from opentelemetry-api>=1.2.0->chromadb)\n",
            "  Downloading importlib_metadata-7.0.0-py3-none-any.whl (23 kB)\n",
            "Requirement already satisfied: googleapis-common-protos~=1.52 in /usr/local/lib/python3.10/dist-packages (from opentelemetry-exporter-otlp-proto-grpc>=1.2.0->chromadb) (1.63.0)\n",
            "Collecting opentelemetry-exporter-otlp-proto-common==1.24.0 (from opentelemetry-exporter-otlp-proto-grpc>=1.2.0->chromadb)\n",
            "  Downloading opentelemetry_exporter_otlp_proto_common-1.24.0-py3-none-any.whl (17 kB)\n",
            "Collecting opentelemetry-proto==1.24.0 (from opentelemetry-exporter-otlp-proto-grpc>=1.2.0->chromadb)\n",
            "  Downloading opentelemetry_proto-1.24.0-py3-none-any.whl (50 kB)\n",
            "\u001b[2K     \u001b[90m━━━━━━━━━━━━━━━━━━━━━━━━━━━━━━━━━━━━━━━━\u001b[0m \u001b[32m50.8/50.8 kB\u001b[0m \u001b[31m7.4 MB/s\u001b[0m eta \u001b[36m0:00:00\u001b[0m\n",
            "\u001b[?25hCollecting opentelemetry-instrumentation-asgi==0.45b0 (from opentelemetry-instrumentation-fastapi>=0.41b0->chromadb)\n",
            "  Downloading opentelemetry_instrumentation_asgi-0.45b0-py3-none-any.whl (14 kB)\n",
            "Collecting opentelemetry-instrumentation==0.45b0 (from opentelemetry-instrumentation-fastapi>=0.41b0->chromadb)\n",
            "  Downloading opentelemetry_instrumentation-0.45b0-py3-none-any.whl (28 kB)\n",
            "Collecting opentelemetry-semantic-conventions==0.45b0 (from opentelemetry-instrumentation-fastapi>=0.41b0->chromadb)\n",
            "  Downloading opentelemetry_semantic_conventions-0.45b0-py3-none-any.whl (36 kB)\n",
            "Collecting opentelemetry-util-http==0.45b0 (from opentelemetry-instrumentation-fastapi>=0.41b0->chromadb)\n",
            "  Downloading opentelemetry_util_http-0.45b0-py3-none-any.whl (6.9 kB)\n",
            "Requirement already satisfied: setuptools>=16.0 in /usr/local/lib/python3.10/dist-packages (from opentelemetry-instrumentation==0.45b0->opentelemetry-instrumentation-fastapi>=0.41b0->chromadb) (67.7.2)\n",
            "Requirement already satisfied: wrapt<2.0.0,>=1.0.0 in /usr/local/lib/python3.10/dist-packages (from opentelemetry-instrumentation==0.45b0->opentelemetry-instrumentation-fastapi>=0.41b0->chromadb) (1.14.1)\n",
            "Collecting asgiref~=3.0 (from opentelemetry-instrumentation-asgi==0.45b0->opentelemetry-instrumentation-fastapi>=0.41b0->chromadb)\n",
            "  Downloading asgiref-3.8.1-py3-none-any.whl (23 kB)\n",
            "Collecting monotonic>=1.5 (from posthog>=2.4.0->chromadb)\n",
            "  Downloading monotonic-1.6-py2.py3-none-any.whl (8.2 kB)\n",
            "Collecting backoff>=1.10.0 (from posthog>=2.4.0->chromadb)\n",
            "  Downloading backoff-2.2.1-py3-none-any.whl (15 kB)\n",
            "Requirement already satisfied: annotated-types>=0.4.0 in /usr/local/lib/python3.10/dist-packages (from pydantic>=1.9->chromadb) (0.6.0)\n",
            "Requirement already satisfied: pydantic-core==2.16.3 in /usr/local/lib/python3.10/dist-packages (from pydantic>=1.9->chromadb) (2.16.3)\n",
            "Requirement already satisfied: charset-normalizer<4,>=2 in /usr/local/lib/python3.10/dist-packages (from requests>=2.28->chromadb) (3.3.2)\n",
            "Requirement already satisfied: idna<4,>=2.5 in /usr/local/lib/python3.10/dist-packages (from requests>=2.28->chromadb) (3.6)\n",
            "Requirement already satisfied: huggingface_hub<1.0,>=0.16.4 in /usr/local/lib/python3.10/dist-packages (from tokenizers>=0.13.2->chromadb) (0.20.3)\n",
            "Requirement already satisfied: click<9.0.0,>=7.1.1 in /usr/local/lib/python3.10/dist-packages (from typer>=0.9.0->chromadb) (8.1.7)\n",
            "Requirement already satisfied: h11>=0.8 in /usr/local/lib/python3.10/dist-packages (from uvicorn[standard]>=0.18.3->chromadb) (0.14.0)\n",
            "Collecting httptools>=0.5.0 (from uvicorn[standard]>=0.18.3->chromadb)\n",
            "  Downloading httptools-0.6.1-cp310-cp310-manylinux_2_5_x86_64.manylinux1_x86_64.manylinux_2_17_x86_64.manylinux2014_x86_64.whl (341 kB)\n",
            "\u001b[2K     \u001b[90m━━━━━━━━━━━━━━━━━━━━━━━━━━━━━━━━━━━━━━━━\u001b[0m \u001b[32m341.4/341.4 kB\u001b[0m \u001b[31m41.6 MB/s\u001b[0m eta \u001b[36m0:00:00\u001b[0m\n",
            "\u001b[?25hCollecting python-dotenv>=0.13 (from uvicorn[standard]>=0.18.3->chromadb)\n",
            "  Downloading python_dotenv-1.0.1-py3-none-any.whl (19 kB)\n",
            "Collecting uvloop!=0.15.0,!=0.15.1,>=0.14.0 (from uvicorn[standard]>=0.18.3->chromadb)\n",
            "  Downloading uvloop-0.19.0-cp310-cp310-manylinux_2_17_x86_64.manylinux2014_x86_64.whl (3.4 MB)\n",
            "\u001b[2K     \u001b[90m━━━━━━━━━━━━━━━━━━━━━━━━━━━━━━━━━━━━━━━━\u001b[0m \u001b[32m3.4/3.4 MB\u001b[0m \u001b[31m93.6 MB/s\u001b[0m eta \u001b[36m0:00:00\u001b[0m\n",
            "\u001b[?25hCollecting watchfiles>=0.13 (from uvicorn[standard]>=0.18.3->chromadb)\n",
            "  Downloading watchfiles-0.21.0-cp310-cp310-manylinux_2_17_x86_64.manylinux2014_x86_64.whl (1.3 MB)\n",
            "\u001b[2K     \u001b[90m━━━━━━━━━━━━━━━━━━━━━━━━━━━━━━━━━━━━━━━━\u001b[0m \u001b[32m1.3/1.3 MB\u001b[0m \u001b[31m84.6 MB/s\u001b[0m eta \u001b[36m0:00:00\u001b[0m\n",
            "\u001b[?25hCollecting websockets>=10.4 (from uvicorn[standard]>=0.18.3->chromadb)\n",
            "  Downloading websockets-12.0-cp310-cp310-manylinux_2_5_x86_64.manylinux1_x86_64.manylinux_2_17_x86_64.manylinux2014_x86_64.whl (130 kB)\n",
            "\u001b[2K     \u001b[90m━━━━━━━━━━━━━━━━━━━━━━━━━━━━━━━━━━━━━━━━\u001b[0m \u001b[32m130.2/130.2 kB\u001b[0m \u001b[31m19.7 MB/s\u001b[0m eta \u001b[36m0:00:00\u001b[0m\n",
            "\u001b[?25hRequirement already satisfied: cachetools<6.0,>=2.0.0 in /usr/local/lib/python3.10/dist-packages (from google-auth>=1.0.1->kubernetes>=28.1.0->chromadb) (5.3.3)\n",
            "Requirement already satisfied: pyasn1-modules>=0.2.1 in /usr/local/lib/python3.10/dist-packages (from google-auth>=1.0.1->kubernetes>=28.1.0->chromadb) (0.4.0)\n",
            "Requirement already satisfied: rsa<5,>=3.1.4 in /usr/local/lib/python3.10/dist-packages (from google-auth>=1.0.1->kubernetes>=28.1.0->chromadb) (4.9)\n",
            "Requirement already satisfied: filelock in /usr/local/lib/python3.10/dist-packages (from huggingface_hub<1.0,>=0.16.4->tokenizers>=0.13.2->chromadb) (3.13.4)\n",
            "Requirement already satisfied: fsspec>=2023.5.0 in /usr/local/lib/python3.10/dist-packages (from huggingface_hub<1.0,>=0.16.4->tokenizers>=0.13.2->chromadb) (2023.6.0)\n",
            "Requirement already satisfied: zipp>=0.5 in /usr/local/lib/python3.10/dist-packages (from importlib-metadata<=7.0,>=6.0->opentelemetry-api>=1.2.0->chromadb) (3.18.1)\n",
            "Requirement already satisfied: anyio<5,>=3.4.0 in /usr/local/lib/python3.10/dist-packages (from starlette<0.38.0,>=0.37.2->fastapi>=0.95.2->chromadb) (3.7.1)\n",
            "Collecting humanfriendly>=9.1 (from coloredlogs->onnxruntime>=1.14.1->chromadb)\n",
            "  Downloading humanfriendly-10.0-py2.py3-none-any.whl (86 kB)\n",
            "\u001b[2K     \u001b[90m━━━━━━━━━━━━━━━━━━━━━━━━━━━━━━━━━━━━━━━━\u001b[0m \u001b[32m86.8/86.8 kB\u001b[0m \u001b[31m12.5 MB/s\u001b[0m eta \u001b[36m0:00:00\u001b[0m\n",
            "\u001b[?25hRequirement already satisfied: mpmath>=0.19 in /usr/local/lib/python3.10/dist-packages (from sympy->onnxruntime>=1.14.1->chromadb) (1.3.0)\n",
            "Requirement already satisfied: sniffio>=1.1 in /usr/local/lib/python3.10/dist-packages (from anyio<5,>=3.4.0->starlette<0.38.0,>=0.37.2->fastapi>=0.95.2->chromadb) (1.3.1)\n",
            "Requirement already satisfied: exceptiongroup in /usr/local/lib/python3.10/dist-packages (from anyio<5,>=3.4.0->starlette<0.38.0,>=0.37.2->fastapi>=0.95.2->chromadb) (1.2.0)\n",
            "Requirement already satisfied: pyasn1<0.7.0,>=0.4.6 in /usr/local/lib/python3.10/dist-packages (from pyasn1-modules>=0.2.1->google-auth>=1.0.1->kubernetes>=28.1.0->chromadb) (0.6.0)\n",
            "Building wheels for collected packages: pypika\n",
            "  Building wheel for pypika (pyproject.toml) ... \u001b[?25l\u001b[?25hdone\n",
            "  Created wheel for pypika: filename=PyPika-0.48.9-py2.py3-none-any.whl size=53724 sha256=c9cb4134861c4bf72fc0640ae910e68d19225eb366b53ca9d0c39502aeb82d48\n",
            "  Stored in directory: /root/.cache/pip/wheels/e1/26/51/d0bffb3d2fd82256676d7ad3003faea3bd6dddc9577af665f4\n",
            "Successfully built pypika\n",
            "Installing collected packages: pypika, monotonic, mmh3, websockets, uvloop, uvicorn, python-dotenv, pulsar-client, overrides, opentelemetry-util-http, opentelemetry-semantic-conventions, opentelemetry-proto, importlib-metadata, humanfriendly, httptools, deprecated, chroma-hnswlib, bcrypt, backoff, asgiref, watchfiles, starlette, posthog, opentelemetry-exporter-otlp-proto-common, opentelemetry-api, coloredlogs, opentelemetry-sdk, opentelemetry-instrumentation, onnxruntime, kubernetes, fastapi, opentelemetry-instrumentation-asgi, opentelemetry-exporter-otlp-proto-grpc, opentelemetry-instrumentation-fastapi, chromadb\n",
            "  Attempting uninstall: importlib-metadata\n",
            "    Found existing installation: importlib_metadata 7.1.0\n",
            "    Uninstalling importlib_metadata-7.1.0:\n",
            "      Successfully uninstalled importlib_metadata-7.1.0\n",
            "Successfully installed asgiref-3.8.1 backoff-2.2.1 bcrypt-4.1.2 chroma-hnswlib-0.7.3 chromadb-0.4.24 coloredlogs-15.0.1 deprecated-1.2.14 fastapi-0.110.1 httptools-0.6.1 humanfriendly-10.0 importlib-metadata-7.0.0 kubernetes-29.0.0 mmh3-4.1.0 monotonic-1.6 onnxruntime-1.17.3 opentelemetry-api-1.24.0 opentelemetry-exporter-otlp-proto-common-1.24.0 opentelemetry-exporter-otlp-proto-grpc-1.24.0 opentelemetry-instrumentation-0.45b0 opentelemetry-instrumentation-asgi-0.45b0 opentelemetry-instrumentation-fastapi-0.45b0 opentelemetry-proto-1.24.0 opentelemetry-sdk-1.24.0 opentelemetry-semantic-conventions-0.45b0 opentelemetry-util-http-0.45b0 overrides-7.7.0 posthog-3.5.0 pulsar-client-3.5.0 pypika-0.48.9 python-dotenv-1.0.1 starlette-0.37.2 uvicorn-0.29.0 uvloop-0.19.0 watchfiles-0.21.0 websockets-12.0\n",
            "\u001b[31mERROR: Could not find a version that satisfies the requirement titoken (from versions: none)\u001b[0m\u001b[31m\n",
            "\u001b[0m\u001b[31mERROR: No matching distribution found for titoken\u001b[0m\u001b[31m\n",
            "\u001b[0m"
          ]
        }
      ],
      "source": [
        "!pip install openai\n",
        "!pip install langchain\n",
        "!pip install langchain-openai\n",
        "!pip install pypdf\n",
        "!pip install chromadb\n",
        "!pip install titoken"
      ]
    },
    {
      "cell_type": "code",
      "source": [
        "import os\n",
        "import numpy as np"
      ],
      "metadata": {
        "id": "P8Y_t56a2gI3"
      },
      "execution_count": null,
      "outputs": []
    },
    {
      "cell_type": "code",
      "source": [
        "from langchain_community.document_loaders import PyPDFLoader\n",
        "\n",
        "loaders = [\n",
        "    PyPDFLoader(\"/M3-W1-AST1.pdf\"),\n",
        "    PyPDFLoader(\"/M3-W2-AST2.pdf\"),\n",
        "]\n",
        "docs = []\n",
        "for loader in loaders:\n",
        "    docs.extend(loader.load())"
      ],
      "metadata": {
        "id": "rDykryB62g0l"
      },
      "execution_count": null,
      "outputs": []
    },
    {
      "cell_type": "code",
      "source": [
        "docs"
      ],
      "metadata": {
        "colab": {
          "base_uri": "https://localhost:8080/"
        },
        "id": "pBckOzqd2hob",
        "outputId": "f9bb6ca1-4810-4f54-e7ad-971e4920ccb5"
      },
      "execution_count": null,
      "outputs": [
        {
          "output_type": "execute_result",
          "data": {
            "text/plain": [
              "[Document(page_content='M o d u l e\\n3 :\\nA S T - 1\\nTITLE:\\nTransitioning\\nfrom\\nResearch\\nto\\nProduction\\nEnvironment\\nLEARNING\\nOBJECTIVES:\\nAt\\nthe\\nend\\nof\\nthe\\nexperiment,\\nyou\\nwill\\nbe\\nable\\nto\\ntransition\\nfrom\\nthe\\nresearch\\nenvironment\\nto\\nthe\\nproduction\\nenvironment.\\nYou\\nwill\\nunderstand\\nthe\\nconcept\\nof\\nmodularization\\nand\\nconvert\\nthe\\nmodel\\ndeveloped\\nin\\nJupyter\\nNotebook\\ninto\\ndifferent\\nmodules\\ntailored\\nto\\nspecific\\nfunctionalities:\\nData\\nManager,\\nTraining,\\nPipeline,\\nPredict,\\netc.\\nYou\\nwill\\nbe\\nable\\nto\\nunderstand\\nand\\nimplement\\nthe\\nfollowing\\naspects:\\n1.\\nVS\\ncode\\nsetup\\nand\\nunderstanding\\ninterface\\ncomponents\\n2.\\nCreating\\nvirtual\\nenvironment,\\ninstalling\\nrequirement,\\nrunning\\n.py\\n&\\n.ipynb\\nfile\\n3.\\nUnderstanding\\n__name__\\n==\\n“__main__”\\nand\\nbuilding\\nour\\nown\\nmodules\\n4.\\nModularization:\\nConverting\\na\\nML\\nmodel\\nfrom\\nresearch\\nenvironment\\nformat\\n(Notebook)\\nto\\nproduct\\nenvironment\\nformat\\n(.py\\nfiles)\\nA)\\nCreating\\ndifferent\\nmodules\\nspecific\\nto\\nfunctionality:\\nData\\nManager,\\nTraining,\\nPipeline,\\nPredict\\nB)\\nUnderstanding\\nfolder\\nstructure\\nC)\\nSeparating\\nconfiguration\\nfiles\\nD)\\nConcept\\nof\\nYAML\\nfile\\nINTRODUCTION:\\nWhat\\nis\\na\\nproduction\\ncode?\\nProduction\\ncode\\nis\\ndesigned\\nto\\nbe\\ndeployed\\nto\\nend\\nusers\\nas\\nopposed\\nto\\nresearch\\ncode,\\nwhich\\nis\\nfor\\nexperimentation,\\nand\\nbuilding\\nproof\\nof\\nconcepts,\\nand\\nresearch\\ncode\\ntends\\nto\\nbe\\nmore\\nshort-term\\nin\\nnature.\\nThe\\nfollowing\\nare\\nconsiderations\\nwith\\nproduction\\ncode:\\n●\\nTestability\\nand\\nmaintainability:\\nDividing\\ncode\\ninto\\nmodules\\nthat\\nare\\nmore\\nextensible\\nand\\neasier\\nto\\nmaintain\\n&\\ntest.\\n●\\nSeparating\\nconfiguration\\nfrom\\ncode\\nwhere\\npossible,\\nand\\nensuring\\nthat\\nfunctionality\\nis\\ntested\\nand\\ndocumented.\\n●\\nMay\\nneed\\nto\\nrefactor\\ninefficient\\nparts\\nof\\nthe\\ncode\\nbase\\nand\\nfinally,\\nreproducibility .\\n●\\nEnsuring\\nversion\\ncontrol\\nwith\\nclear\\nprocesses\\nfor\\ntracking\\nreleases\\nand\\nrelease\\nversions,\\nrequirements,\\na\\nmark\\nof\\nwhich\\ndependencies\\nand\\nwhich\\nversions\\nare\\nused\\nby\\nthe\\ncode.\\n', metadata={'source': '/M3-W1-AST1.pdf', 'page': 0}),\n",
              " Document(page_content=\"●\\nEnsure\\nthat\\ncode\\nadheres\\nto\\nstandards\\nlike\\nPEP8\\nso\\nthat\\nit's\\neasy\\nfor\\nothers\\nto\\nread\\nand\\nwork.\\n●\\nScalability\\nand\\nperformance\\nare\\nalso\\nimportant\\nareas\\nto\\nconsider:\\nThe\\nproduction\\ncode\\nneeds\\nto\\nbe\\nready\\nto\\nbe\\ndeployed\\nto\\ninfrastructure\\nthat\\ncan\\nbe\\nscaled.In\\nmodern\\nweb\\napplications,\\nthis\\ntypically\\nmeans\\ncontainerization\\nfor\\nvertical\\nor\\nhorizontal\\nscaling.\\nUnderstanding\\nthe\\nfolder\\nstructur e\\nin\\npr oduction\\nenvir onment:\\nAs\\nper\\nthe\\nnew\\nconsiderations\\nfor\\nproduction-level\\ncode,\\nthe\\nfollowing\\nare\\nthe\\nreasoning\\nbehind\\nthe\\nstructure\\nof\\nthe\\nproduction\\ncode\\n-\\n1)\\nReliability/Reproducibility\\n2)\\nMaintainability\\n&\\nAdaptability\\n3)\\nTestability\\n4)\\nScalability\\n5)\\nVersion\\ncontrol\\n\", metadata={'source': '/M3-W1-AST1.pdf', 'page': 1}),\n",
              " Document(page_content='Understanding\\nthe\\nfunctionality\\nof\\neach\\nfile\\nand\\nfolder\\nGiven\\nbelow\\nis\\nthe\\nproject\\nfolder\\nstructure\\nshowing\\nall\\nfiles\\nand\\nsub-folders.\\nIn\\nthe\\nexplanation,\\nthe\\nnumberings\\nare\\ngiven\\nto\\nshow\\nhow\\neach\\ncomponent\\nis\\nconnected\\none\\nafter\\nthe\\nother\\nin\\na\\nlogical\\nsequence,\\nand\\nthe\\nexplanation\\nis\\nwritten\\nin\\nfront\\nof\\nthe\\ncorresponding\\nfile\\nin\\nthe\\nfolder\\nstructure\\nfor\\nease\\nof\\ntraceability\\nof\\neach\\nfile\\nlocation.\\n1.\\nr equir ements:\\nDependencies-libraries,\\npackages.\\n2.\\ncor e.py\\n:\\nIt\\naccesses\\nthe\\nconfig.yml\\nfile\\n&\\nsetups\\nthe\\npath\\nfor\\ndataset\\nfolder\\ntrained\\nmodels\\netc\\n.\\n●\\ndatasets:\\nRaw\\ndataset\\nis\\nstored\\nhere.\\n3.\\ndata_manger .py:\\nIt\\ncontains\\npre-pipeline\\nfunctions,\\nand\\nfunctionality\\nfor\\nloading\\nof\\ndata,\\nsaving\\n&\\nloading\\nof\\ntrained\\nmodels,\\nand\\nremoving\\nold\\nversion\\nmodels.\\n4.\\nfeatur es.py\\n:\\nIt\\ncontains\\ncustom\\nbuilt\\ntransformation\\nclasses\\nif\\nany.\\n5.\\nvalidation.py:\\nTo\\nvalidate\\nthe\\nuser\\ninput\\ndata\\nbefore\\nfeeding\\ninto\\nthe\\nmodel\\nfor\\nprediction.\\nThis\\nis\\nimported\\nand\\nused\\ninside\\npredict.py.\\n●\\ntrained_models:\\nThe\\ntrained\\nmodel\\nis\\nstored\\ninside\\nthis\\nfolder\\n6.\\nconfig.yml:\\nAll\\nthe\\nconfigurations\\nand\\nsetting\\nparameters,\\nfeatures\\nname\\nare\\nstored\\nhere.\\n7.\\npipeline.py\\n:\\nIt\\ncontains\\nthe\\ncomplete\\npipeline\\nusing\\ntransformation\\nclasses\\nand\\nmodeling\\nalgorithm\\n8.\\ntrain_pipeline.py\\n:\\nModel\\ntraining\\nand\\nsaving\\nof\\nmodel\\n9.\\npr edict.py:\\nprovide\\ninference\\nfor\\nany\\nnew\\nsample\\nby\\nloading\\nthe\\nsaved\\nmodel.\\n●\\nVERSION\\n:\\nContains\\nthe\\nversion\\ntag.\\n●\\n__init__.py\\n:\\nThis\\nfile\\nlets\\nthe\\nPython\\ninterpreter\\nknow\\nthat\\na\\ndirectory\\ncontains\\ncode\\nfor\\na\\nPython\\nmodule.\\nAn\\n__init__.py\\nfile\\ncan\\nbe\\nblank.\\nWithout\\nthis,\\nimporting\\nmodules\\nfrom\\nanother\\nfolder\\ninto\\nyour\\nproject\\nis\\nnot\\npossible.\\n', metadata={'source': '/M3-W1-AST1.pdf', 'page': 2}),\n",
              " Document(page_content='PROCEDURE\\nThe\\nfollowing\\nsteps\\ninvolve\\ndownloading\\nthe\\nproject\\nfolder\\nand\\nuploading\\nit\\nto\\nVS\\ncode,\\ncreating\\na\\nvirtual\\nenvironment\\nwithin\\nthe\\nproject,\\ninstalling\\nnecessary\\ndependencies,\\nand\\nexecuting\\nspecific\\nscripts\\nfor\\ntraining\\nand\\nprediction.\\nIt\\nallows\\nus\\nto\\neffectively\\nconfigure\\nthe\\nproject\\nand\\nexecute\\nit\\nwithin\\nthe\\nVS\\ncode\\nenvironment.\\nStep1\\n:\\nEnvironment\\nSetup\\nin\\nyour\\nlocal\\nsystem\\n:\\nGo\\nthrough\\nthe\\nEnvir onment\\nsetup\\ndocument\\nand\\ncomplete\\nthe\\nVS\\ncode\\ninstallation\\nand\\nalong\\nwith\\nthe\\nPython\\nin\\nyour\\nsystem.\\nStep\\n2:\\nGo\\nthrough\\nthe\\nExperiment\\nPhase-1\\nand\\nExperiment\\nPhase-2\\ncolab\\nnotebooks\\nand\\ntry\\nto\\nunderstand\\ndifferent\\nsteps\\nviz.\\ndata\\nexploration,\\npre-processing:\\npre-pipeline\\n&\\npipeline\\nprocessing,\\ncustom\\ntransformation\\nclass\\nand\\nfinal\\npipeline\\nbuilding.\\nNote\\nunderstanding\\nthese\\nsteps\\nare\\nessential\\nto\\ntransition\\nfrom\\nthe\\nresearch\\nphase\\nto\\nthe\\nproduction\\nphase.\\nStep\\n3:\\nDownload\\nthe\\nPr oject\\nfolder\\nand\\nupload\\nin\\nyour\\nVS\\ncode\\nand\\nfollow\\nthe\\nsteps\\nbelow:\\n1.\\nUpload\\nthe\\nProject\\nfolder\\nin\\nVS\\ncode\\n2.\\nInside\\nProject\\ncreate\\nvirtual\\nenvironment\\n:\\nA.\\nOpen\\nterminal,\\nit\\nshould\\npoint\\nto\\n…….\\\\pr ojects>\\nB.\\nFor\\ncreating\\nvirtual\\nenvironment\\nrun\\nthe\\nfollowing\\ncommand\\n:\\npython\\n-m\\nvenv\\npath\\nof\\nproject\\nfolder\\\\venv\\nFor\\nexample:\\n….\\\\project>\\npython\\n-m\\nvenv\\nC:\\\\Users\\\\karna\\\\Desktop\\\\MLOps_M3_M4\\\\project\\\\venv\\nC.\\nGo\\ninside\\nvenv\\\\Scripts\\nby\\ncommand\\n:\\n….>\\ncd\\nvenv\\\\Scripts\\nNow\\ntype\\nactivate\\nand\\nenter\\n:\\n....\\nproject\\\\venv\\\\Scripts>\\nactivate\\nD.\\nNow\\npr ess\\n:\\nctrl\\n+shift+p;\\nselect\\nInterpreter\\nwhich\\ncontains\\nvenv\\nClose\\nthe\\nterminal\\nand\\nopen\\nnew\\nterminal,\\nwe\\nare\\ninside\\nven\\nlike\\nthis:\\n(venv)\\n………………………………..\\n\\\\project>\\n3.\\nGo\\ninside\\nrequirements[\\ncd\\nrequirements\\n]\\nfolder\\nand\\nrun\\n:\\n…>\\npip\\ninstall\\n-r\\nrequirements.txt\\n4.\\nCome\\nout\\nof\\nrequirements\\nfolder\\n[\\ncd..]\\nand\\ngo\\ninside\\ntitanic_model\\nfolder\\nand\\nrun\\n:\\npy\\ntrain_pipeline.py\\n', metadata={'source': '/M3-W1-AST1.pdf', 'page': 3}),\n",
              " Document(page_content='5.\\nNow\\nrun\\n:\\npy\\npredict.py\\nNote:\\nIf\\nyou\\nare\\ngetting\\nerrors\\nwhile\\ncreating\\nand\\nactivating\\na\\nvirtual\\nenvironment\\nfollow\\nthe\\nlast\\nfew\\nsteps\\nmentioned\\nin\\nthe\\nEnvir onment\\nsetup\\ndocument\\n.\\n', metadata={'source': '/M3-W1-AST1.pdf', 'page': 4}),\n",
              " Document(page_content=\"Module\\n3:\\nAST-2\\nTITLE:\\nTesting\\nthe\\nModules\\n&\\nPackaging \\nLEARNING\\nOBJECTIVES:\\nAt\\nthe\\nend\\nof\\nthe\\nexperiment,\\nyou\\nwill\\nbe\\nable\\nto\\ninclude\\ntesting\\naspects\\nin\\nthe\\nproject\\nand\\nwrite\\ntest\\ncases\\ncontinuing\\nfrom\\nAST1.\\nFinally ,\\nyou\\nwill\\nbe\\nable\\nto\\ncreate\\na\\npython\\npackage\\nof\\nthe\\nmodel\\nwhich\\ncan\\nbe\\neasily\\nconsumed\\nby\\nany\\nAPI.\\nYou\\nwill\\nbe\\nable\\nto\\nunderstand\\nand\\nimplement\\nthe\\nfollowing\\naspects:\\n1.\\nTesting\\nconcept\\nand\\nautomated\\ntesting\\nusing\\npytest\\n \\n2.\\nPackaging\\nof\\nmodel\\nINTRODUCTION\\nTesting:\\nSoftware\\ntesting\\nis\\na\\ncrucial\\npart\\nof\\nthe\\nsoftware\\ndevelopment\\nprocess.\\nIt\\ninvolves\\nexecuting\\na\\nprogram\\nor\\nsystem\\nwith\\nthe\\nintention\\nof\\nfinding\\nerrors\\nor\\nverifying\\nits\\ncompliance\\nwith\\nspecified\\nrequirements.\\nThe\\ngoal\\nof\\ntesting\\nis\\nto\\nidentify\\ndefects\\nand\\nensure\\nthat\\nthe\\nsoftware\\nfunctions\\nas\\nintended,\\nmeets\\nuser\\nexpectations,\\nand\\noperates\\nreliably\\nin\\nvarious\\nscenarios.\\nTesting\\nprovides\\nseveral\\nbenefits\\nto\\nsoftware\\ndevelopment:\\n●\\n(i)\\nError\\nDetection\\n:\\nTesting\\nhelps\\nidentify\\nbugs,\\nerrors,\\nand\\nunexpected\\nbehavior\\nin\\nthe\\nsoftware\\n●\\n(ii)\\nVerification\\nand\\nValidation\\n:\\nTesting\\nvalidates\\nthat\\nthe\\nsoftware\\nmeets\\nthe\\nspecified\\nrequirements\\nand\\nperforms\\nas\\nexpected.\\nVerification\\ninvolves\\nchecking\\nif\\nthe\\nsoftware\\nconforms\\nto\\nthe\\ndesign\\nand\\ndevelopment\\nspecifications,\\nwhile\\nvalidation\\nensures\\nthat\\nit\\nmeets\\nthe\\nuser's\\nneeds\\n●\\n(iii)\\nRisk\\nMitigation\\n:\\nTesting\\nhelps\\nmitigate\\nrisks\\nassociated\\nwith\\nsoftware\\nfailure.\\nBy\\nuncovering\\nand\\nfixing\\nbugs\\nearly\\nin\\nthe\\ndevelopment\\ncycle,\\npotential\\nrisks\\nsuch\\nas\\nsystem\\ncrashes,\\ndata\\nloss,\\nsecurity\\nvulnerabilities,\\nor\\nfinancial\\nlosses\\ncan\\nbe\\nminimized\\n●\\n(iv)\\nCode\\nMaintenance\\nand\\nRefactoring\\n:\\nTesting\\nfacilitates\\ncode\\nmaintenance\\nand\\nrefactoring.\\nWhen\\ntests\\nare\\nin\\nplace,\\ndevelopers\\ncan\\nconfidently\\nmodify\\nor\\nrefactor\\nexisting\\ncode\\nwithout\\nthe\\nfear\\nof\\nintroducing\\nnew\\ndefects.\\n●\\n(v)\\nDocumentation\\nand\\nUnderstanding\\n:\\nTests\\nserve\\nas\\nexecutable\\ndocumentation\\nof\\nthe\\nsoftware's\\nbehavior .\\nThey\\nhelp\\ndevelopers\\nunderstand\\nthe\\n\", metadata={'source': '/M3-W2-AST2.pdf', 'page': 0}),\n",
              " Document(page_content=\"codebase\\nbetter\\nby\\nacting\\nas\\nliving\\nexamples\\nand\\nserving\\nas\\na\\nguide\\nfor\\nfuture\\ndevelopment.\\nPytest\\nis\\na\\npopular\\ntesting\\nframework\\nin\\nPython\\nthat\\nsimplifies\\nthe\\nprocess\\nof\\nwriting\\nand\\nexecuting\\ntests.\\nIt\\nprovides\\na\\nclean\\nand\\nconcise\\nsyntax\\nfor\\ndefining\\ntest\\ncases,\\nfixtures\\nfor\\ntest\\nsetup\\nand\\nteardown,\\ntest\\ndiscovery ,\\nand\\npowerful\\nassertions.\\nPytest\\nintegrates\\nwell\\nwith\\nother\\ntools\\nand\\nframeworks,\\nmaking\\nit\\na\\nvaluable\\ntool\\nfor\\nboosting\\ntesting\\nproductivity .\\nTypes\\nof\\nTests\\n:\\nThree\\ntypes\\nof\\ntests\\ncan\\nbe\\ndesigned: \\nUnit\\ntest,\\nIntegration\\ntest \\nand \\nsystem\\ntest.\\nA\\nunit\\ntest\\n is\\nthe\\nsmallest\\nand\\nsimplest\\nform\\nof\\nsoftware\\ntesting. \\nThese\\ntests\\nare\\nemployed\\nto\\nassess\\na\\nseparable\\nunit\\nof\\nsoftware\\nsuch\\nas\\na\\nclass\\nor\\na \\nfunction\\nfor\\ncorrectness,\\nindependent\\nof\\nthe\\nlarger\\nsoftware\\nsystem\\ncomposed\\nof\\nmany \\nsuch\\nunit\\ncomponents.\\nA\\nunit\\ntest\\nverifies\\nand\\npasses\\nindividual\\nunits\\nwhich\\nare \\nassembled\\ninto\\nlarger\\ncomponents.\\nThe \\nintegration\\ntests\\n are\\nrun\\non\\nan\\nassembled \\ncomponent\\nto\\nverify\\nthat\\nit\\nfunctions\\ncorrectly ,\\nand\\nfinally ,\\nthe \\nsystem\\ntests\\n cover\\nthe \\nend-to-end\\nfunctionality\\nof\\nthe\\nsystem. \\n \\nHow\\nmuch\\nshould\\nwe\\ntest?\\nPrioritizing\\ntest\\nfor\\ncode\\nbase\\n-\\nfunctions\\nor\\nclasses\\nthat\\nare \\nabsolutely\\nmission\\ncritical.\\nThis\\nreduces\\nuncertainty\\nabout\\nthe\\nsystem's\\nfunctionality \\nwhen\\nthere\\nis\\nany\\nchange\\nin\\nthe\\nsystem.\\nTesting\\ndesign\\nfor\\nmachine\\nlearning\\nsystems\\nis\\ncomplex\\nas\\ncompared\\nto\\na \\ntraditional\\nsoftware\\nsystem.\\nThe\\nsystem\\nbehavior\\nis\\ncontrolled\\nby\\nsoftware\\ncode \\nonly\\nin\\na\\ntraditional\\nsoftware\\nsystem.\\nThe \\nML\\nmodel \\nand\\n the\\ndata \\nare\\nadditional \\nnew\\nelements\\n \\nin\\nmachine\\nlearning\\nsystems,\\nwhich\\nimpact\\nthe\\nbehavior\\nof\\nthe\\nML \\nsystem\\nPackage\\nA\\npackage\\nis\\na\\ncollection\\nof\\nPython\\nmodules,\\nand\\nit\\nis\\na\\nuseful\\nway\\nfor\\nus\\nto\\npublish\\nrelated\\nfunctionality\\nso\\nthat\\ndifferent\\nproject\\napplications\\ncan\\ninstall\\nour\\npackage\\nand\\nmake\\nuse\\nof\\nthe\\nPython\\nmodules.\\nThe\\nfiles\\nthat\\nare\\nrelated\\nto\\npackaging\\nare\\npyproject.toml\\n,\\nsetup.py\\n,\\nmanifest.in\\nand\\nmypy .ini\\nfile.\\n\", metadata={'source': '/M3-W2-AST2.pdf', 'page': 1}),\n",
              " Document(page_content=\"Understanding\\nthe\\nfolder\\nstructure\\nin\\nproduction\\nenvironment:\\nUnderstanding\\nthe\\nfunctionality\\nof\\neach\\nfile\\nFiles\\nfor\\nTesting:\\n1.\\nconftest.py:\\nHere\\nwe\\nare\\ndefining\\na\\nfixture\\nfor\\npytest\\nand\\nthen\\nsample_input_data\\nfunction\\nis\\npassed\\nto\\neach\\ntest\\ncase.\\nThe\\nsample_input_data\\nfunction\\nreturns\\nthe\\ntest\\nset\\nwith\\nthe\\ntarget\\nwhich\\nis\\nused\\nfurther\\nfor\\nfeature\\ntesting\\nand\\nprediction.\\n2.\\ntest_features.py\\n:\\nA\\nsample\\ntest\\nfor\\none\\nof\\nthe\\nfeature\\nengineering\\ncodes.\\nInside\\nthe\\ntest,\\nwe\\nhave\\nthe\\ntest_features.py\\nfile\\nfor\\ntesting\\nage_col_tfr\\nclass\\nfunctionality .\\n3.\\ntest_prediction.py:\\nA\\nsample\\ntest\\nfor\\nprediction\\nand\\naccuracy\\ntest.\\nFiles\\nfor\\nPackaging:\\n1.\\npyproject.toml\\n:\\nThe\\nkey\\nlines\\nto\\ndo\\nwith\\npackaging\\nare\\none\\nto\\nsix,\\nwhere\\nwe\\nspecify\\nwhat\\nthe\\nbasic\\ndependencies\\nfor\\ninstalling\\nthe\\npackages\\nare\\ni.e.\\nsetuptools\\nand\\nwheel.\\nWe\\nmight\\nsee\\nsome\\npyproject.toml\\nlines\\nwhich\\nspecify\\nalternative\\ntools\\nfor\\nbuilding.\\nThese\\nare\\nthe\\nstandard\\ntools\\nthat\\nyou'll\\ncome\\nacross\\nthe\\nmost.\\nThe\\nrest\\nof\\nthe\\npyproject.toml\\nis\\ndedicated\\nto\\nconfiguring\\nour\\ntooling\\n,\\nlike\\npytest\\nsettings.\\nAnd\\nthen\\nfurther\\ndown,\\nwe\\n\", metadata={'source': '/M3-W2-AST2.pdf', 'page': 2}),\n",
              " Document(page_content=\"have\\nthe\\nconfiguration\\nfor\\nour\\nlinter\\n,\\nwhich\\nis\\ncalled\\nblack\\nand\\nthe\\nimport\\nsorting\\ntool\\ncalled\\nisort\\n.\\nBe\\nrest\\nassured,\\nas\\nrarely ,\\nwe\\nwill\\nneed\\nto\\nwrite\\nsomething\\nlike\\na\\npyproject.toml\\nfile\\nfrom\\nscratch.\\nMost\\nof\\nthe\\ntime,\\nwe\\nwill\\nbe\\nusing\\na\\ntemplate,\\npulling\\nand\\nmodifying\\na\\npyproject.toml\\nfrom\\nanother\\nproject,\\nor\\ngenerated\\nwith\\nthe\\ntool.\\nThe\\nsame\\napplies\\nto\\nthe\\nsetup\\nfile,\\nmanifest.in,\\nand\\nthe\\ntooling\\nconfigurations.\\nSo,\\nwe\\ndon’t\\nhave\\nto\\nwrite\\na\\nfile\\nlike\\nthis\\nline\\nby\\nline.\\n2.\\nsetup.py\\nThe\\nmajority\\nof\\nthe\\npackaging\\nfunctionality\\nresides\\ninside\\nthe\\nSetup\\nfile.\\nYou\\ncan\\nsee\\nthe\\npackage\\nmetadata.\\nWe're\\ngoing\\nto\\ncall\\nthe\\npackage\\n‘\\ntitanic_model\\n’.\\nThe\\nsetup\\nfile\\ncontains\\nmetadata\\nabout\\nthe\\npackage,\\nsuch\\nas\\nits\\ndescription,\\nauthor ,\\nand\\ncompatibility\\nwith\\na\\nspecific\\nversion\\nof\\nPython.\\nThe\\nversion\\nof\\nthe\\npackage\\nis\\ndetermined\\nby\\nreading\\na\\nversion\\nfile,\\nwhich\\ncontains\\na\\nsingle\\nvalue\\nspecifying\\nthe\\nversion.\\nThis\\nversion\\nvalue\\nis\\nthen\\nassigned\\nto\\nthe\\nmetadata\\ndictionary\\nin\\nthe\\nSetup\\nfile.\\nThe\\nrequirements\\nfor\\nthe\\npackage\\nare\\nalso\\nspecified,\\nusually\\nby\\nusing\\na\\nlist\\nof\\nrequirements\\nfrom\\na\\nrequirements\\ndirectory .\\nAll\\nthese\\nvalues\\nare\\npassed\\nas\\narguments\\nto\\nthe\\nsetup\\nfunction\\nfrom\\nthe\\nsetuptools\\nlibrary ,\\nwhich\\nis\\ncrucial\\nfor\\ncreating\\nthe\\npackage.\\n3.\\nManifest.in\\nThe\\nManifest.in\\nfile\\nis\\nused\\nto\\nspecify\\nthe\\nfiles\\nthat\\nshould\\nbe\\nincluded\\nor\\nexcluded\\nin\\nthe\\npackage.\\nThis\\nfile\\nis\\nresponsible\\nfor\\nensuring\\nthat\\nimportant\\nfiles\\nlike\\nthe\\npickle\\nfile,\\nas\\nwell\\nas\\nthe\\ntrain\\nand\\ntest\\nCSVs,\\nare\\nincluded\\nin\\nthe\\npackage.\\nThe\\ninclusion\\nof\\nthe\\nCSVs\\nallows\\nother\\napplications\\nthat\\ndepend\\non\\nthe\\npackage\\nto\\nuse\\nthem\\nfor\\ntesting\\npurposes.\\n4.\\nmypy .in:\\nThe\\nmypy .ini\\nfile\\nis\\nused\\nto\\nconfigure\\nthe\\nspecific\\ntype\\nhints\\nthat\\nwe\\nwant\\nto\\nfocus\\non\\nand\\npay\\nattention\\nto\\nin\\nour\\ncode.\\nHowever ,\\nthis\\nis\\nmanageable\\nand\\neffortless.\\nTooling:\\nTools\\nthat\\nare\\nused\\nto\\nmanage\\nour\\npackage:\\nIn\\naddition\\nto\\nour\\npytest\\nlibrary ,\\nwhich\\nwe're\\nusing\\nfor\\ntesting,\\nwe\\nmay\\nhave\\na\\nfew\\nother\\nlibraries\\nviz.\\nblack,\\nflake,\\nmypy ,\\nisort.\\n•\\nblack\\nis\\na\\ncode-styling\\nenforcement.\\n•\\nflake8\\nis\\na\\nlinting\\ntool\\nto\\ntell\\nus\\nwhere\\nwe\\nare\\nnot\\nadhering\\nto\\ngood\\nPython\\nconventions.\\n•\\nmypy\\nis\\na\\ntype-checking\\ntool\\nand\\n\", metadata={'source': '/M3-W2-AST2.pdf', 'page': 3}),\n",
              " Document(page_content='•\\nisort\\nis\\na\\ntool\\nfor\\nensuring\\nour\\nimports\\nare\\nin\\nthe\\ncorrect\\norder .\\nThe\\nprediction\\nof\\nthe\\ntest\\nset\\nand\\ncalculation\\nof\\naccuracy\\npreviously\\nkept\\ninside\\nthe\\ntrain_pipeline.py\\nis\\nshifted\\nto\\nthe\\ntest_predictions.py\\nfile\\n.\\nPROCEDURE\\nThe\\nfollowing\\nsteps\\ninvolve\\ndownloading\\nthe\\nproject\\nfolder\\nand\\nuploading\\nit\\nto\\nVS\\ncode,\\ncreating\\na\\nvirtual\\nenvironment\\nwithin\\nthe\\nproject,\\ninstalling\\nnecessary\\ndependencies,\\nand\\nexecuting\\nspecific\\nscripts\\nfor\\ntraining,\\ntesting,\\nand\\npackaging.\\nIt\\nallows\\nus\\nto\\neffectively\\nconfigure\\nthe\\nproject\\nand\\nexecute\\nit\\nwithin\\nthe\\nVS\\ncode\\nenvironment.\\nSteps:\\nDownload\\nthe\\nproject_with_test_and_package\\nfolder\\nand\\nupload\\nin\\nyour\\nVS\\ncode\\nand\\nfollow\\nthe\\nsteps\\nbelow:\\n1.\\nUpload\\nthe\\nproject_with_test_and_package\\nfolder\\nin\\nVS\\ncode\\n2.\\nInside\\nthe\\nproject_with_test_and_package,\\ncreate\\na\\nvirtual\\nenvironment\\nas\\nin\\nAST-1.\\n3.\\nGo\\ninside\\nrequirements[\\ncd\\nrequirements\\n]\\nfolder\\nand\\nrun\\n:\\n…>\\npip\\ninstall\\n-r\\ntest_requirements.txt\\n4.\\nNavigate\\nout\\nof\\nrequirements\\nfolder\\n[\\ncd..]\\nand\\ngo\\ninside\\ntitanic_model\\nfolder\\nand\\nrun\\n:\\npy\\ntrain_pipeline.py\\n5.\\nNavigate\\nout\\nfrom\\nthe\\ntitanic_model\\nfolder\\nand\\nbe\\ninside\\nthe\\nproject_with_test_and_package\\nfolder .\\nNow,\\nrun:\\n...>\\npytest\\nYou\\nwill\\nsee\\nresult\\nlike\\nthis:\\n', metadata={'source': '/M3-W2-AST2.pdf', 'page': 4}),\n",
              " Document(page_content='Which\\nindicates\\nthat\\ntests\\nhave\\nbeen\\npassed\\nand\\nthe\\nmodel\\nis\\nworking\\nas\\nintended\\n6.\\nFor\\nbuilding\\nthe\\npackage\\nfrom\\nthe\\nmodel\\nwith\\nits\\nremaining\\nfunctionality:\\nRun:\\n...>\\npy\\n-m\\npip\\ninstall\\n--upgrade\\nbuild\\nAnd\\nthen\\nRun:\\n...>\\npy\\n-m\\nbuild\\nYou\\nwill\\nsee\\nresult\\nlike\\nthis\\nupon\\nsuccessful\\nbuilding\\nof\\npackage:\\nYou\\nwill\\nnotice,\\ntwo\\nadditional\\nfolders\\nwill\\nbe\\ncreated:\\n1.\\ndist:\\nThis\\ncontains\\nthe\\ndistributable\\n‘\\nwhl’\\nfile\\nand\\n‘\\ngz\\ntar’\\nfile.\\nThe\\n‘\\nwhl’\\nfile\\nis\\neasy\\nto\\ninstall.\\n2.\\ntitanic_model.egg-info\\n:\\nThis\\ncontains\\nmetadata\\nand\\ninformation\\nof\\nthe\\npackages\\nalong\\nwith\\nthe\\nrequirements\\ninformation.\\nNote:\\nFor\\nthe\\ntechnical\\nquestion\\nand\\nto\\nunderstand\\nhow\\ntest\\ncases\\nare\\nwritten\\ninside\\nthe\\ntest_features.py\\n,\\nopen\\nthe\\nExperimentation_Phase_2_with_test.ipynb\\nfile.\\n', metadata={'source': '/M3-W2-AST2.pdf', 'page': 5})]"
            ]
          },
          "metadata": {},
          "execution_count": 4
        }
      ]
    },
    {
      "cell_type": "code",
      "source": [
        "from langchain_text_splitters import RecursiveCharacterTextSplitter"
      ],
      "metadata": {
        "id": "kTPyupb62iV1"
      },
      "execution_count": null,
      "outputs": []
    },
    {
      "cell_type": "code",
      "source": [
        "text_splitter = RecursiveCharacterTextSplitter(chunk_size = 500, chunk_overlap = 50)"
      ],
      "metadata": {
        "id": "aJQ2dGD82im1"
      },
      "execution_count": null,
      "outputs": []
    },
    {
      "cell_type": "code",
      "source": [
        "splits = text_splitter.split_documents(docs)\n",
        "print(len(splits))\n",
        "splits"
      ],
      "metadata": {
        "colab": {
          "base_uri": "https://localhost:8080/"
        },
        "id": "fufCP1m32i2u",
        "outputId": "208a0417-efa3-4bf3-a693-95d2454df332"
      },
      "execution_count": null,
      "outputs": [
        {
          "output_type": "stream",
          "name": "stdout",
          "text": [
            "38\n"
          ]
        },
        {
          "output_type": "execute_result",
          "data": {
            "text/plain": [
              "[Document(page_content='M o d u l e\\n3 :\\nA S T - 1\\nTITLE:\\nTransitioning\\nfrom\\nResearch\\nto\\nProduction\\nEnvironment\\nLEARNING\\nOBJECTIVES:\\nAt\\nthe\\nend\\nof\\nthe\\nexperiment,\\nyou\\nwill\\nbe\\nable\\nto\\ntransition\\nfrom\\nthe\\nresearch\\nenvironment\\nto\\nthe\\nproduction\\nenvironment.\\nYou\\nwill\\nunderstand\\nthe\\nconcept\\nof\\nmodularization\\nand\\nconvert\\nthe\\nmodel\\ndeveloped\\nin\\nJupyter\\nNotebook\\ninto\\ndifferent\\nmodules\\ntailored\\nto\\nspecific\\nfunctionalities:\\nData\\nManager,\\nTraining,\\nPipeline,\\nPredict,\\netc.\\nYou\\nwill\\nbe\\nable\\nto\\nunderstand\\nand\\nimplement\\nthe\\nfollowing', metadata={'source': '/M3-W1-AST1.pdf', 'page': 0}),\n",
              " Document(page_content='be\\nable\\nto\\nunderstand\\nand\\nimplement\\nthe\\nfollowing\\naspects:\\n1.\\nVS\\ncode\\nsetup\\nand\\nunderstanding\\ninterface\\ncomponents\\n2.\\nCreating\\nvirtual\\nenvironment,\\ninstalling\\nrequirement,\\nrunning\\n.py\\n&\\n.ipynb\\nfile\\n3.\\nUnderstanding\\n__name__\\n==\\n“__main__”\\nand\\nbuilding\\nour\\nown\\nmodules\\n4.\\nModularization:\\nConverting\\na\\nML\\nmodel\\nfrom\\nresearch\\nenvironment\\nformat\\n(Notebook)\\nto\\nproduct\\nenvironment\\nformat\\n(.py\\nfiles)\\nA)\\nCreating\\ndifferent\\nmodules\\nspecific\\nto\\nfunctionality:\\nData\\nManager,\\nTraining,\\nPipeline,\\nPredict\\nB)', metadata={'source': '/M3-W1-AST1.pdf', 'page': 0}),\n",
              " Document(page_content='Data\\nManager,\\nTraining,\\nPipeline,\\nPredict\\nB)\\nUnderstanding\\nfolder\\nstructure\\nC)\\nSeparating\\nconfiguration\\nfiles\\nD)\\nConcept\\nof\\nYAML\\nfile\\nINTRODUCTION:\\nWhat\\nis\\na\\nproduction\\ncode?\\nProduction\\ncode\\nis\\ndesigned\\nto\\nbe\\ndeployed\\nto\\nend\\nusers\\nas\\nopposed\\nto\\nresearch\\ncode,\\nwhich\\nis\\nfor\\nexperimentation,\\nand\\nbuilding\\nproof\\nof\\nconcepts,\\nand\\nresearch\\ncode\\ntends\\nto\\nbe\\nmore\\nshort-term\\nin\\nnature.\\nThe\\nfollowing\\nare\\nconsiderations\\nwith\\nproduction\\ncode:\\n●\\nTestability\\nand\\nmaintainability:\\nDividing\\ncode\\ninto\\nmodules', metadata={'source': '/M3-W1-AST1.pdf', 'page': 0}),\n",
              " Document(page_content='and\\nmaintainability:\\nDividing\\ncode\\ninto\\nmodules\\nthat\\nare\\nmore\\nextensible\\nand\\neasier\\nto\\nmaintain\\n&\\ntest.\\n●\\nSeparating\\nconfiguration\\nfrom\\ncode\\nwhere\\npossible,\\nand\\nensuring\\nthat\\nfunctionality\\nis\\ntested\\nand\\ndocumented.\\n●\\nMay\\nneed\\nto\\nrefactor\\ninefficient\\nparts\\nof\\nthe\\ncode\\nbase\\nand\\nfinally,\\nreproducibility .\\n●\\nEnsuring\\nversion\\ncontrol\\nwith\\nclear\\nprocesses\\nfor\\ntracking\\nreleases\\nand\\nrelease\\nversions,\\nrequirements,\\na\\nmark\\nof\\nwhich\\ndependencies\\nand\\nwhich\\nversions\\nare\\nused\\nby\\nthe\\ncode.', metadata={'source': '/M3-W1-AST1.pdf', 'page': 0}),\n",
              " Document(page_content=\"●\\nEnsure\\nthat\\ncode\\nadheres\\nto\\nstandards\\nlike\\nPEP8\\nso\\nthat\\nit's\\neasy\\nfor\\nothers\\nto\\nread\\nand\\nwork.\\n●\\nScalability\\nand\\nperformance\\nare\\nalso\\nimportant\\nareas\\nto\\nconsider:\\nThe\\nproduction\\ncode\\nneeds\\nto\\nbe\\nready\\nto\\nbe\\ndeployed\\nto\\ninfrastructure\\nthat\\ncan\\nbe\\nscaled.In\\nmodern\\nweb\\napplications,\\nthis\\ntypically\\nmeans\\ncontainerization\\nfor\\nvertical\\nor\\nhorizontal\\nscaling.\\nUnderstanding\\nthe\\nfolder\\nstructur e\\nin\\npr oduction\\nenvir onment:\\nAs\\nper\\nthe\\nnew\\nconsiderations\\nfor\\nproduction-level\\ncode,\\nthe\\nfollowing\\nare\\nthe\", metadata={'source': '/M3-W1-AST1.pdf', 'page': 1}),\n",
              " Document(page_content='for\\nproduction-level\\ncode,\\nthe\\nfollowing\\nare\\nthe\\nreasoning\\nbehind\\nthe\\nstructure\\nof\\nthe\\nproduction\\ncode\\n-\\n1)\\nReliability/Reproducibility\\n2)\\nMaintainability\\n&\\nAdaptability\\n3)\\nTestability\\n4)\\nScalability\\n5)\\nVersion\\ncontrol', metadata={'source': '/M3-W1-AST1.pdf', 'page': 1}),\n",
              " Document(page_content='Understanding\\nthe\\nfunctionality\\nof\\neach\\nfile\\nand\\nfolder\\nGiven\\nbelow\\nis\\nthe\\nproject\\nfolder\\nstructure\\nshowing\\nall\\nfiles\\nand\\nsub-folders.\\nIn\\nthe\\nexplanation,\\nthe\\nnumberings\\nare\\ngiven\\nto\\nshow\\nhow\\neach\\ncomponent\\nis\\nconnected\\none\\nafter\\nthe\\nother\\nin\\na\\nlogical\\nsequence,\\nand\\nthe\\nexplanation\\nis\\nwritten\\nin\\nfront\\nof\\nthe\\ncorresponding\\nfile\\nin\\nthe\\nfolder\\nstructure\\nfor\\nease\\nof\\ntraceability\\nof\\neach\\nfile\\nlocation.\\n1.\\nr equir ements:\\nDependencies-libraries,\\npackages.\\n2.\\ncor e.py\\n:\\nIt\\naccesses\\nthe\\nconfig.yml\\nfile', metadata={'source': '/M3-W1-AST1.pdf', 'page': 2}),\n",
              " Document(page_content='2.\\ncor e.py\\n:\\nIt\\naccesses\\nthe\\nconfig.yml\\nfile\\n&\\nsetups\\nthe\\npath\\nfor\\ndataset\\nfolder\\ntrained\\nmodels\\netc\\n.\\n●\\ndatasets:\\nRaw\\ndataset\\nis\\nstored\\nhere.\\n3.\\ndata_manger .py:\\nIt\\ncontains\\npre-pipeline\\nfunctions,\\nand\\nfunctionality\\nfor\\nloading\\nof\\ndata,\\nsaving\\n&\\nloading\\nof\\ntrained\\nmodels,\\nand\\nremoving\\nold\\nversion\\nmodels.\\n4.\\nfeatur es.py\\n:\\nIt\\ncontains\\ncustom\\nbuilt\\ntransformation\\nclasses\\nif\\nany.\\n5.\\nvalidation.py:\\nTo\\nvalidate\\nthe\\nuser\\ninput\\ndata\\nbefore\\nfeeding\\ninto\\nthe\\nmodel\\nfor\\nprediction.\\nThis\\nis\\nimported\\nand', metadata={'source': '/M3-W1-AST1.pdf', 'page': 2}),\n",
              " Document(page_content='the\\nmodel\\nfor\\nprediction.\\nThis\\nis\\nimported\\nand\\nused\\ninside\\npredict.py.\\n●\\ntrained_models:\\nThe\\ntrained\\nmodel\\nis\\nstored\\ninside\\nthis\\nfolder\\n6.\\nconfig.yml:\\nAll\\nthe\\nconfigurations\\nand\\nsetting\\nparameters,\\nfeatures\\nname\\nare\\nstored\\nhere.\\n7.\\npipeline.py\\n:\\nIt\\ncontains\\nthe\\ncomplete\\npipeline\\nusing\\ntransformation\\nclasses\\nand\\nmodeling\\nalgorithm\\n8.\\ntrain_pipeline.py\\n:\\nModel\\ntraining\\nand\\nsaving\\nof\\nmodel\\n9.\\npr edict.py:\\nprovide\\ninference\\nfor\\nany\\nnew\\nsample\\nby\\nloading\\nthe\\nsaved\\nmodel.\\n●\\nVERSION\\n:\\nContains\\nthe', metadata={'source': '/M3-W1-AST1.pdf', 'page': 2}),\n",
              " Document(page_content='loading\\nthe\\nsaved\\nmodel.\\n●\\nVERSION\\n:\\nContains\\nthe\\nversion\\ntag.\\n●\\n__init__.py\\n:\\nThis\\nfile\\nlets\\nthe\\nPython\\ninterpreter\\nknow\\nthat\\na\\ndirectory\\ncontains\\ncode\\nfor\\na\\nPython\\nmodule.\\nAn\\n__init__.py\\nfile\\ncan\\nbe\\nblank.\\nWithout\\nthis,\\nimporting\\nmodules\\nfrom\\nanother\\nfolder\\ninto\\nyour\\nproject\\nis\\nnot\\npossible.', metadata={'source': '/M3-W1-AST1.pdf', 'page': 2}),\n",
              " Document(page_content='PROCEDURE\\nThe\\nfollowing\\nsteps\\ninvolve\\ndownloading\\nthe\\nproject\\nfolder\\nand\\nuploading\\nit\\nto\\nVS\\ncode,\\ncreating\\na\\nvirtual\\nenvironment\\nwithin\\nthe\\nproject,\\ninstalling\\nnecessary\\ndependencies,\\nand\\nexecuting\\nspecific\\nscripts\\nfor\\ntraining\\nand\\nprediction.\\nIt\\nallows\\nus\\nto\\neffectively\\nconfigure\\nthe\\nproject\\nand\\nexecute\\nit\\nwithin\\nthe\\nVS\\ncode\\nenvironment.\\nStep1\\n:\\nEnvironment\\nSetup\\nin\\nyour\\nlocal\\nsystem\\n:\\nGo\\nthrough\\nthe\\nEnvir onment\\nsetup\\ndocument\\nand\\ncomplete\\nthe\\nVS\\ncode\\ninstallation\\nand\\nalong\\nwith\\nthe\\nPython\\nin', metadata={'source': '/M3-W1-AST1.pdf', 'page': 3}),\n",
              " Document(page_content='VS\\ncode\\ninstallation\\nand\\nalong\\nwith\\nthe\\nPython\\nin\\nyour\\nsystem.\\nStep\\n2:\\nGo\\nthrough\\nthe\\nExperiment\\nPhase-1\\nand\\nExperiment\\nPhase-2\\ncolab\\nnotebooks\\nand\\ntry\\nto\\nunderstand\\ndifferent\\nsteps\\nviz.\\ndata\\nexploration,\\npre-processing:\\npre-pipeline\\n&\\npipeline\\nprocessing,\\ncustom\\ntransformation\\nclass\\nand\\nfinal\\npipeline\\nbuilding.\\nNote\\nunderstanding\\nthese\\nsteps\\nare\\nessential\\nto\\ntransition\\nfrom\\nthe\\nresearch\\nphase\\nto\\nthe\\nproduction\\nphase.\\nStep\\n3:\\nDownload\\nthe\\nPr oject\\nfolder\\nand\\nupload\\nin\\nyour\\nVS\\ncode\\nand\\nfollow', metadata={'source': '/M3-W1-AST1.pdf', 'page': 3}),\n",
              " Document(page_content='folder\\nand\\nupload\\nin\\nyour\\nVS\\ncode\\nand\\nfollow\\nthe\\nsteps\\nbelow:\\n1.\\nUpload\\nthe\\nProject\\nfolder\\nin\\nVS\\ncode\\n2.\\nInside\\nProject\\ncreate\\nvirtual\\nenvironment\\n:\\nA.\\nOpen\\nterminal,\\nit\\nshould\\npoint\\nto\\n…….\\\\pr ojects>\\nB.\\nFor\\ncreating\\nvirtual\\nenvironment\\nrun\\nthe\\nfollowing\\ncommand\\n:\\npython\\n-m\\nvenv\\npath\\nof\\nproject\\nfolder\\\\venv\\nFor\\nexample:\\n….\\\\project>\\npython\\n-m\\nvenv\\nC:\\\\Users\\\\karna\\\\Desktop\\\\MLOps_M3_M4\\\\project\\\\venv\\nC.\\nGo\\ninside\\nvenv\\\\Scripts\\nby\\ncommand\\n:\\n….>\\ncd\\nvenv\\\\Scripts\\nNow\\ntype\\nactivate\\nand\\nenter\\n:\\n....', metadata={'source': '/M3-W1-AST1.pdf', 'page': 3}),\n",
              " Document(page_content='venv\\\\Scripts\\nNow\\ntype\\nactivate\\nand\\nenter\\n:\\n....\\nproject\\\\venv\\\\Scripts>\\nactivate\\nD.\\nNow\\npr ess\\n:\\nctrl\\n+shift+p;\\nselect\\nInterpreter\\nwhich\\ncontains\\nvenv\\nClose\\nthe\\nterminal\\nand\\nopen\\nnew\\nterminal,\\nwe\\nare\\ninside\\nven\\nlike\\nthis:\\n(venv)\\n………………………………..\\n\\\\project>\\n3.\\nGo\\ninside\\nrequirements[\\ncd\\nrequirements\\n]\\nfolder\\nand\\nrun\\n:\\n…>\\npip\\ninstall\\n-r\\nrequirements.txt\\n4.\\nCome\\nout\\nof\\nrequirements\\nfolder\\n[\\ncd..]\\nand\\ngo\\ninside\\ntitanic_model\\nfolder\\nand\\nrun\\n:\\npy\\ntrain_pipeline.py', metadata={'source': '/M3-W1-AST1.pdf', 'page': 3}),\n",
              " Document(page_content='5.\\nNow\\nrun\\n:\\npy\\npredict.py\\nNote:\\nIf\\nyou\\nare\\ngetting\\nerrors\\nwhile\\ncreating\\nand\\nactivating\\na\\nvirtual\\nenvironment\\nfollow\\nthe\\nlast\\nfew\\nsteps\\nmentioned\\nin\\nthe\\nEnvir onment\\nsetup\\ndocument\\n.', metadata={'source': '/M3-W1-AST1.pdf', 'page': 4}),\n",
              " Document(page_content='Module\\n3:\\nAST-2\\nTITLE:\\nTesting\\nthe\\nModules\\n&\\nPackaging \\nLEARNING\\nOBJECTIVES:\\nAt\\nthe\\nend\\nof\\nthe\\nexperiment,\\nyou\\nwill\\nbe\\nable\\nto\\ninclude\\ntesting\\naspects\\nin\\nthe\\nproject\\nand\\nwrite\\ntest\\ncases\\ncontinuing\\nfrom\\nAST1.\\nFinally ,\\nyou\\nwill\\nbe\\nable\\nto\\ncreate\\na\\npython\\npackage\\nof\\nthe\\nmodel\\nwhich\\ncan\\nbe\\neasily\\nconsumed\\nby\\nany\\nAPI.\\nYou\\nwill\\nbe\\nable\\nto\\nunderstand\\nand\\nimplement\\nthe\\nfollowing\\naspects:\\n1.\\nTesting\\nconcept\\nand\\nautomated\\ntesting\\nusing\\npytest\\n \\n2.\\nPackaging\\nof\\nmodel\\nINTRODUCTION\\nTesting:\\nSoftware', metadata={'source': '/M3-W2-AST2.pdf', 'page': 0}),\n",
              " Document(page_content='Packaging\\nof\\nmodel\\nINTRODUCTION\\nTesting:\\nSoftware\\ntesting\\nis\\na\\ncrucial\\npart\\nof\\nthe\\nsoftware\\ndevelopment\\nprocess.\\nIt\\ninvolves\\nexecuting\\na\\nprogram\\nor\\nsystem\\nwith\\nthe\\nintention\\nof\\nfinding\\nerrors\\nor\\nverifying\\nits\\ncompliance\\nwith\\nspecified\\nrequirements.\\nThe\\ngoal\\nof\\ntesting\\nis\\nto\\nidentify\\ndefects\\nand\\nensure\\nthat\\nthe\\nsoftware\\nfunctions\\nas\\nintended,\\nmeets\\nuser\\nexpectations,\\nand\\noperates\\nreliably\\nin\\nvarious\\nscenarios.\\nTesting\\nprovides\\nseveral\\nbenefits\\nto\\nsoftware\\ndevelopment:\\n●\\n(i)\\nError\\nDetection\\n:', metadata={'source': '/M3-W2-AST2.pdf', 'page': 0}),\n",
              " Document(page_content=\"to\\nsoftware\\ndevelopment:\\n●\\n(i)\\nError\\nDetection\\n:\\nTesting\\nhelps\\nidentify\\nbugs,\\nerrors,\\nand\\nunexpected\\nbehavior\\nin\\nthe\\nsoftware\\n●\\n(ii)\\nVerification\\nand\\nValidation\\n:\\nTesting\\nvalidates\\nthat\\nthe\\nsoftware\\nmeets\\nthe\\nspecified\\nrequirements\\nand\\nperforms\\nas\\nexpected.\\nVerification\\ninvolves\\nchecking\\nif\\nthe\\nsoftware\\nconforms\\nto\\nthe\\ndesign\\nand\\ndevelopment\\nspecifications,\\nwhile\\nvalidation\\nensures\\nthat\\nit\\nmeets\\nthe\\nuser's\\nneeds\\n●\\n(iii)\\nRisk\\nMitigation\\n:\\nTesting\\nhelps\\nmitigate\\nrisks\\nassociated\\nwith\\nsoftware\", metadata={'source': '/M3-W2-AST2.pdf', 'page': 0}),\n",
              " Document(page_content='helps\\nmitigate\\nrisks\\nassociated\\nwith\\nsoftware\\nfailure.\\nBy\\nuncovering\\nand\\nfixing\\nbugs\\nearly\\nin\\nthe\\ndevelopment\\ncycle,\\npotential\\nrisks\\nsuch\\nas\\nsystem\\ncrashes,\\ndata\\nloss,\\nsecurity\\nvulnerabilities,\\nor\\nfinancial\\nlosses\\ncan\\nbe\\nminimized\\n●\\n(iv)\\nCode\\nMaintenance\\nand\\nRefactoring\\n:\\nTesting\\nfacilitates\\ncode\\nmaintenance\\nand\\nrefactoring.\\nWhen\\ntests\\nare\\nin\\nplace,\\ndevelopers\\ncan\\nconfidently\\nmodify\\nor\\nrefactor\\nexisting\\ncode\\nwithout\\nthe\\nfear\\nof\\nintroducing\\nnew\\ndefects.\\n●\\n(v)\\nDocumentation\\nand\\nUnderstanding\\n:', metadata={'source': '/M3-W2-AST2.pdf', 'page': 0}),\n",
              " Document(page_content=\"defects.\\n●\\n(v)\\nDocumentation\\nand\\nUnderstanding\\n:\\nTests\\nserve\\nas\\nexecutable\\ndocumentation\\nof\\nthe\\nsoftware's\\nbehavior .\\nThey\\nhelp\\ndevelopers\\nunderstand\\nthe\", metadata={'source': '/M3-W2-AST2.pdf', 'page': 0}),\n",
              " Document(page_content='codebase\\nbetter\\nby\\nacting\\nas\\nliving\\nexamples\\nand\\nserving\\nas\\na\\nguide\\nfor\\nfuture\\ndevelopment.\\nPytest\\nis\\na\\npopular\\ntesting\\nframework\\nin\\nPython\\nthat\\nsimplifies\\nthe\\nprocess\\nof\\nwriting\\nand\\nexecuting\\ntests.\\nIt\\nprovides\\na\\nclean\\nand\\nconcise\\nsyntax\\nfor\\ndefining\\ntest\\ncases,\\nfixtures\\nfor\\ntest\\nsetup\\nand\\nteardown,\\ntest\\ndiscovery ,\\nand\\npowerful\\nassertions.\\nPytest\\nintegrates\\nwell\\nwith\\nother\\ntools\\nand\\nframeworks,\\nmaking\\nit\\na\\nvaluable\\ntool\\nfor\\nboosting\\ntesting\\nproductivity .\\nTypes\\nof\\nTests\\n:\\nThree\\ntypes\\nof\\ntests', metadata={'source': '/M3-W2-AST2.pdf', 'page': 1}),\n",
              " Document(page_content='Types\\nof\\nTests\\n:\\nThree\\ntypes\\nof\\ntests\\ncan\\nbe\\ndesigned: \\nUnit\\ntest,\\nIntegration\\ntest \\nand \\nsystem\\ntest.\\nA\\nunit\\ntest\\n is\\nthe\\nsmallest\\nand\\nsimplest\\nform\\nof\\nsoftware\\ntesting. \\nThese\\ntests\\nare\\nemployed\\nto\\nassess\\na\\nseparable\\nunit\\nof\\nsoftware\\nsuch\\nas\\na\\nclass\\nor\\na \\nfunction\\nfor\\ncorrectness,\\nindependent\\nof\\nthe\\nlarger\\nsoftware\\nsystem\\ncomposed\\nof\\nmany \\nsuch\\nunit\\ncomponents.\\nA\\nunit\\ntest\\nverifies\\nand\\npasses\\nindividual\\nunits\\nwhich\\nare \\nassembled\\ninto\\nlarger\\ncomponents.\\nThe \\nintegration\\ntests\\n are\\nrun\\non\\nan', metadata={'source': '/M3-W2-AST2.pdf', 'page': 1}),\n",
              " Document(page_content=\"components.\\nThe \\nintegration\\ntests\\n are\\nrun\\non\\nan\\nassembled \\ncomponent\\nto\\nverify\\nthat\\nit\\nfunctions\\ncorrectly ,\\nand\\nfinally ,\\nthe \\nsystem\\ntests\\n cover\\nthe \\nend-to-end\\nfunctionality\\nof\\nthe\\nsystem. \\n \\nHow\\nmuch\\nshould\\nwe\\ntest?\\nPrioritizing\\ntest\\nfor\\ncode\\nbase\\n-\\nfunctions\\nor\\nclasses\\nthat\\nare \\nabsolutely\\nmission\\ncritical.\\nThis\\nreduces\\nuncertainty\\nabout\\nthe\\nsystem's\\nfunctionality \\nwhen\\nthere\\nis\\nany\\nchange\\nin\\nthe\\nsystem.\\nTesting\\ndesign\\nfor\\nmachine\\nlearning\\nsystems\\nis\\ncomplex\\nas\\ncompared\\nto\\na\", metadata={'source': '/M3-W2-AST2.pdf', 'page': 1}),\n",
              " Document(page_content='learning\\nsystems\\nis\\ncomplex\\nas\\ncompared\\nto\\na \\ntraditional\\nsoftware\\nsystem.\\nThe\\nsystem\\nbehavior\\nis\\ncontrolled\\nby\\nsoftware\\ncode \\nonly\\nin\\na\\ntraditional\\nsoftware\\nsystem.\\nThe \\nML\\nmodel \\nand\\n the\\ndata \\nare\\nadditional \\nnew\\nelements\\n \\nin\\nmachine\\nlearning\\nsystems,\\nwhich\\nimpact\\nthe\\nbehavior\\nof\\nthe\\nML \\nsystem\\nPackage\\nA\\npackage\\nis\\na\\ncollection\\nof\\nPython\\nmodules,\\nand\\nit\\nis\\na\\nuseful\\nway\\nfor\\nus\\nto\\npublish\\nrelated\\nfunctionality\\nso\\nthat\\ndifferent\\nproject\\napplications\\ncan\\ninstall\\nour\\npackage\\nand\\nmake\\nuse\\nof\\nthe', metadata={'source': '/M3-W2-AST2.pdf', 'page': 1}),\n",
              " Document(page_content='can\\ninstall\\nour\\npackage\\nand\\nmake\\nuse\\nof\\nthe\\nPython\\nmodules.\\nThe\\nfiles\\nthat\\nare\\nrelated\\nto\\npackaging\\nare\\npyproject.toml\\n,\\nsetup.py\\n,\\nmanifest.in\\nand\\nmypy .ini\\nfile.', metadata={'source': '/M3-W2-AST2.pdf', 'page': 1}),\n",
              " Document(page_content='Understanding\\nthe\\nfolder\\nstructure\\nin\\nproduction\\nenvironment:\\nUnderstanding\\nthe\\nfunctionality\\nof\\neach\\nfile\\nFiles\\nfor\\nTesting:\\n1.\\nconftest.py:\\nHere\\nwe\\nare\\ndefining\\na\\nfixture\\nfor\\npytest\\nand\\nthen\\nsample_input_data\\nfunction\\nis\\npassed\\nto\\neach\\ntest\\ncase.\\nThe\\nsample_input_data\\nfunction\\nreturns\\nthe\\ntest\\nset\\nwith\\nthe\\ntarget\\nwhich\\nis\\nused\\nfurther\\nfor\\nfeature\\ntesting\\nand\\nprediction.\\n2.\\ntest_features.py\\n:\\nA\\nsample\\ntest\\nfor\\none\\nof\\nthe\\nfeature\\nengineering\\ncodes.\\nInside\\nthe\\ntest,\\nwe\\nhave\\nthe\\ntest_features.py', metadata={'source': '/M3-W2-AST2.pdf', 'page': 2}),\n",
              " Document(page_content=\"Inside\\nthe\\ntest,\\nwe\\nhave\\nthe\\ntest_features.py\\nfile\\nfor\\ntesting\\nage_col_tfr\\nclass\\nfunctionality .\\n3.\\ntest_prediction.py:\\nA\\nsample\\ntest\\nfor\\nprediction\\nand\\naccuracy\\ntest.\\nFiles\\nfor\\nPackaging:\\n1.\\npyproject.toml\\n:\\nThe\\nkey\\nlines\\nto\\ndo\\nwith\\npackaging\\nare\\none\\nto\\nsix,\\nwhere\\nwe\\nspecify\\nwhat\\nthe\\nbasic\\ndependencies\\nfor\\ninstalling\\nthe\\npackages\\nare\\ni.e.\\nsetuptools\\nand\\nwheel.\\nWe\\nmight\\nsee\\nsome\\npyproject.toml\\nlines\\nwhich\\nspecify\\nalternative\\ntools\\nfor\\nbuilding.\\nThese\\nare\\nthe\\nstandard\\ntools\\nthat\\nyou'll\\ncome\", metadata={'source': '/M3-W2-AST2.pdf', 'page': 2}),\n",
              " Document(page_content=\"These\\nare\\nthe\\nstandard\\ntools\\nthat\\nyou'll\\ncome\\nacross\\nthe\\nmost.\\nThe\\nrest\\nof\\nthe\\npyproject.toml\\nis\\ndedicated\\nto\\nconfiguring\\nour\\ntooling\\n,\\nlike\\npytest\\nsettings.\\nAnd\\nthen\\nfurther\\ndown,\\nwe\", metadata={'source': '/M3-W2-AST2.pdf', 'page': 2}),\n",
              " Document(page_content='have\\nthe\\nconfiguration\\nfor\\nour\\nlinter\\n,\\nwhich\\nis\\ncalled\\nblack\\nand\\nthe\\nimport\\nsorting\\ntool\\ncalled\\nisort\\n.\\nBe\\nrest\\nassured,\\nas\\nrarely ,\\nwe\\nwill\\nneed\\nto\\nwrite\\nsomething\\nlike\\na\\npyproject.toml\\nfile\\nfrom\\nscratch.\\nMost\\nof\\nthe\\ntime,\\nwe\\nwill\\nbe\\nusing\\na\\ntemplate,\\npulling\\nand\\nmodifying\\na\\npyproject.toml\\nfrom\\nanother\\nproject,\\nor\\ngenerated\\nwith\\nthe\\ntool.\\nThe\\nsame\\napplies\\nto\\nthe\\nsetup\\nfile,\\nmanifest.in,\\nand\\nthe\\ntooling\\nconfigurations.\\nSo,\\nwe\\ndon’t\\nhave\\nto\\nwrite\\na\\nfile\\nlike\\nthis\\nline\\nby\\nline.\\n2.\\nsetup.py\\nThe', metadata={'source': '/M3-W2-AST2.pdf', 'page': 3}),\n",
              " Document(page_content=\"a\\nfile\\nlike\\nthis\\nline\\nby\\nline.\\n2.\\nsetup.py\\nThe\\nmajority\\nof\\nthe\\npackaging\\nfunctionality\\nresides\\ninside\\nthe\\nSetup\\nfile.\\nYou\\ncan\\nsee\\nthe\\npackage\\nmetadata.\\nWe're\\ngoing\\nto\\ncall\\nthe\\npackage\\n‘\\ntitanic_model\\n’.\\nThe\\nsetup\\nfile\\ncontains\\nmetadata\\nabout\\nthe\\npackage,\\nsuch\\nas\\nits\\ndescription,\\nauthor ,\\nand\\ncompatibility\\nwith\\na\\nspecific\\nversion\\nof\\nPython.\\nThe\\nversion\\nof\\nthe\\npackage\\nis\\ndetermined\\nby\\nreading\\na\\nversion\\nfile,\\nwhich\\ncontains\\na\\nsingle\\nvalue\\nspecifying\\nthe\\nversion.\\nThis\\nversion\\nvalue\\nis\\nthen\\nassigned\", metadata={'source': '/M3-W2-AST2.pdf', 'page': 3}),\n",
              " Document(page_content='the\\nversion.\\nThis\\nversion\\nvalue\\nis\\nthen\\nassigned\\nto\\nthe\\nmetadata\\ndictionary\\nin\\nthe\\nSetup\\nfile.\\nThe\\nrequirements\\nfor\\nthe\\npackage\\nare\\nalso\\nspecified,\\nusually\\nby\\nusing\\na\\nlist\\nof\\nrequirements\\nfrom\\na\\nrequirements\\ndirectory .\\nAll\\nthese\\nvalues\\nare\\npassed\\nas\\narguments\\nto\\nthe\\nsetup\\nfunction\\nfrom\\nthe\\nsetuptools\\nlibrary ,\\nwhich\\nis\\ncrucial\\nfor\\ncreating\\nthe\\npackage.\\n3.\\nManifest.in\\nThe\\nManifest.in\\nfile\\nis\\nused\\nto\\nspecify\\nthe\\nfiles\\nthat\\nshould\\nbe\\nincluded\\nor\\nexcluded\\nin\\nthe\\npackage.\\nThis\\nfile\\nis\\nresponsible', metadata={'source': '/M3-W2-AST2.pdf', 'page': 3}),\n",
              " Document(page_content='excluded\\nin\\nthe\\npackage.\\nThis\\nfile\\nis\\nresponsible\\nfor\\nensuring\\nthat\\nimportant\\nfiles\\nlike\\nthe\\npickle\\nfile,\\nas\\nwell\\nas\\nthe\\ntrain\\nand\\ntest\\nCSVs,\\nare\\nincluded\\nin\\nthe\\npackage.\\nThe\\ninclusion\\nof\\nthe\\nCSVs\\nallows\\nother\\napplications\\nthat\\ndepend\\non\\nthe\\npackage\\nto\\nuse\\nthem\\nfor\\ntesting\\npurposes.\\n4.\\nmypy .in:\\nThe\\nmypy .ini\\nfile\\nis\\nused\\nto\\nconfigure\\nthe\\nspecific\\ntype\\nhints\\nthat\\nwe\\nwant\\nto\\nfocus\\non\\nand\\npay\\nattention\\nto\\nin\\nour\\ncode.\\nHowever ,\\nthis\\nis\\nmanageable\\nand\\neffortless.\\nTooling:\\nTools\\nthat\\nare\\nused\\nto', metadata={'source': '/M3-W2-AST2.pdf', 'page': 3}),\n",
              " Document(page_content=\"and\\neffortless.\\nTooling:\\nTools\\nthat\\nare\\nused\\nto\\nmanage\\nour\\npackage:\\nIn\\naddition\\nto\\nour\\npytest\\nlibrary ,\\nwhich\\nwe're\\nusing\\nfor\\ntesting,\\nwe\\nmay\\nhave\\na\\nfew\\nother\\nlibraries\\nviz.\\nblack,\\nflake,\\nmypy ,\\nisort.\\n•\\nblack\\nis\\na\\ncode-styling\\nenforcement.\\n•\\nflake8\\nis\\na\\nlinting\\ntool\\nto\\ntell\\nus\\nwhere\\nwe\\nare\\nnot\\nadhering\\nto\\ngood\\nPython\\nconventions.\\n•\\nmypy\\nis\\na\\ntype-checking\\ntool\\nand\", metadata={'source': '/M3-W2-AST2.pdf', 'page': 3}),\n",
              " Document(page_content='•\\nisort\\nis\\na\\ntool\\nfor\\nensuring\\nour\\nimports\\nare\\nin\\nthe\\ncorrect\\norder .\\nThe\\nprediction\\nof\\nthe\\ntest\\nset\\nand\\ncalculation\\nof\\naccuracy\\npreviously\\nkept\\ninside\\nthe\\ntrain_pipeline.py\\nis\\nshifted\\nto\\nthe\\ntest_predictions.py\\nfile\\n.\\nPROCEDURE\\nThe\\nfollowing\\nsteps\\ninvolve\\ndownloading\\nthe\\nproject\\nfolder\\nand\\nuploading\\nit\\nto\\nVS\\ncode,\\ncreating\\na\\nvirtual\\nenvironment\\nwithin\\nthe\\nproject,\\ninstalling\\nnecessary\\ndependencies,\\nand\\nexecuting\\nspecific\\nscripts\\nfor\\ntraining,\\ntesting,\\nand\\npackaging.\\nIt\\nallows\\nus\\nto\\neffectively', metadata={'source': '/M3-W2-AST2.pdf', 'page': 4}),\n",
              " Document(page_content='and\\npackaging.\\nIt\\nallows\\nus\\nto\\neffectively\\nconfigure\\nthe\\nproject\\nand\\nexecute\\nit\\nwithin\\nthe\\nVS\\ncode\\nenvironment.\\nSteps:\\nDownload\\nthe\\nproject_with_test_and_package\\nfolder\\nand\\nupload\\nin\\nyour\\nVS\\ncode\\nand\\nfollow\\nthe\\nsteps\\nbelow:\\n1.\\nUpload\\nthe\\nproject_with_test_and_package\\nfolder\\nin\\nVS\\ncode\\n2.\\nInside\\nthe\\nproject_with_test_and_package,\\ncreate\\na\\nvirtual\\nenvironment\\nas\\nin\\nAST-1.\\n3.\\nGo\\ninside\\nrequirements[\\ncd\\nrequirements\\n]\\nfolder\\nand\\nrun\\n:\\n…>\\npip\\ninstall\\n-r\\ntest_requirements.txt\\n4.\\nNavigate\\nout\\nof', metadata={'source': '/M3-W2-AST2.pdf', 'page': 4}),\n",
              " Document(page_content='-r\\ntest_requirements.txt\\n4.\\nNavigate\\nout\\nof\\nrequirements\\nfolder\\n[\\ncd..]\\nand\\ngo\\ninside\\ntitanic_model\\nfolder\\nand\\nrun\\n:\\npy\\ntrain_pipeline.py\\n5.\\nNavigate\\nout\\nfrom\\nthe\\ntitanic_model\\nfolder\\nand\\nbe\\ninside\\nthe\\nproject_with_test_and_package\\nfolder .\\nNow,\\nrun:\\n...>\\npytest\\nYou\\nwill\\nsee\\nresult\\nlike\\nthis:', metadata={'source': '/M3-W2-AST2.pdf', 'page': 4}),\n",
              " Document(page_content='Which\\nindicates\\nthat\\ntests\\nhave\\nbeen\\npassed\\nand\\nthe\\nmodel\\nis\\nworking\\nas\\nintended\\n6.\\nFor\\nbuilding\\nthe\\npackage\\nfrom\\nthe\\nmodel\\nwith\\nits\\nremaining\\nfunctionality:\\nRun:\\n...>\\npy\\n-m\\npip\\ninstall\\n--upgrade\\nbuild\\nAnd\\nthen\\nRun:\\n...>\\npy\\n-m\\nbuild\\nYou\\nwill\\nsee\\nresult\\nlike\\nthis\\nupon\\nsuccessful\\nbuilding\\nof\\npackage:\\nYou\\nwill\\nnotice,\\ntwo\\nadditional\\nfolders\\nwill\\nbe\\ncreated:\\n1.\\ndist:\\nThis\\ncontains\\nthe\\ndistributable\\n‘\\nwhl’\\nfile\\nand\\n‘\\ngz\\ntar’\\nfile.\\nThe\\n‘\\nwhl’\\nfile\\nis\\neasy\\nto\\ninstall.\\n2.\\ntitanic_model.egg-info\\n:\\nThis', metadata={'source': '/M3-W2-AST2.pdf', 'page': 5}),\n",
              " Document(page_content='easy\\nto\\ninstall.\\n2.\\ntitanic_model.egg-info\\n:\\nThis\\ncontains\\nmetadata\\nand\\ninformation\\nof\\nthe\\npackages\\nalong\\nwith\\nthe\\nrequirements\\ninformation.\\nNote:\\nFor\\nthe\\ntechnical\\nquestion\\nand\\nto\\nunderstand\\nhow\\ntest\\ncases\\nare\\nwritten\\ninside\\nthe\\ntest_features.py\\n,\\nopen\\nthe\\nExperimentation_Phase_2_with_test.ipynb\\nfile.', metadata={'source': '/M3-W2-AST2.pdf', 'page': 5})]"
            ]
          },
          "metadata": {},
          "execution_count": 8
        }
      ]
    },
    {
      "cell_type": "code",
      "source": [
        "# import openai\n",
        "# f = open('/openai_api.txt')\n",
        "# api_key = f.read()\n",
        "# os.environ['OPENAI_API_KEY'] = api_key\n",
        "# openai.api_key = os.getenv('OPENAI_API_KEY')"
      ],
      "metadata": {
        "id": "o_g_W8K72jtM"
      },
      "execution_count": null,
      "outputs": []
    },
    {
      "cell_type": "code",
      "source": [
        "# from langchain_openai import OpenAIEmbeddings\n",
        "# embedding = OpenAIEmbeddings()"
      ],
      "metadata": {
        "id": "89tC5hq42j6T"
      },
      "execution_count": null,
      "outputs": []
    },
    {
      "cell_type": "code",
      "source": [
        "sentence1 = \"i like to visit places\"\n",
        "sentence2 = \"Kerala's weather this year has been pretty harsh\""
      ],
      "metadata": {
        "id": "rBFoAggM2kFG"
      },
      "execution_count": null,
      "outputs": []
    },
    {
      "cell_type": "code",
      "source": [
        "import getpass\n",
        "\n",
        "inference_api_key = getpass.getpass(\"Enter your HF Inference API Key:\\n\\n\")"
      ],
      "metadata": {
        "colab": {
          "base_uri": "https://localhost:8080/"
        },
        "id": "AFbfvdMU2kSq",
        "outputId": "e2ecb39c-3bd4-4bf4-8f87-cd1d06dbce61"
      },
      "execution_count": null,
      "outputs": [
        {
          "name": "stdout",
          "output_type": "stream",
          "text": [
            "Enter your HF Inference API Key:\n",
            "\n",
            "··········\n"
          ]
        }
      ]
    },
    {
      "cell_type": "code",
      "source": [
        "from langchain_community.embeddings import HuggingFaceInferenceAPIEmbeddings\n",
        "\n",
        "embeddings = HuggingFaceInferenceAPIEmbeddings(\n",
        "    api_key=inference_api_key, model_name=\"sentence-transformers/all-MiniLM-l6-v2\"\n",
        ")\n",
        "\n",
        "query_result = embeddings.embed_query(sentence1)\n",
        "query_result[:3]"
      ],
      "metadata": {
        "colab": {
          "base_uri": "https://localhost:8080/"
        },
        "id": "wQjHmUZb2kiE",
        "outputId": "4ae78089-1b23-40a1-9c57-a51eb2ec74a7"
      },
      "execution_count": null,
      "outputs": [
        {
          "output_type": "execute_result",
          "data": {
            "text/plain": [
              "[0.056691378355026245, -0.0945902019739151, 0.04635509476065636]"
            ]
          },
          "metadata": {},
          "execution_count": 16
        }
      ]
    },
    {
      "cell_type": "code",
      "source": [
        "from langchain_community.vectorstores import Chroma"
      ],
      "metadata": {
        "id": "Yt8PKD8M2k6Q"
      },
      "execution_count": null,
      "outputs": []
    },
    {
      "cell_type": "code",
      "source": [
        "persist_directory = '/chroma'\n",
        "!rm -rf ./chroma"
      ],
      "metadata": {
        "id": "o-DU0BBr_wl8"
      },
      "execution_count": null,
      "outputs": []
    },
    {
      "cell_type": "code",
      "source": [
        "vectordb = Chroma.from_documents(documents = splits, embedding = embeddings, persist_directory= persist_directory)"
      ],
      "metadata": {
        "id": "n72uMWuA_wpH"
      },
      "execution_count": null,
      "outputs": []
    },
    {
      "cell_type": "code",
      "source": [
        "print(vectordb._collection.count())"
      ],
      "metadata": {
        "colab": {
          "base_uri": "https://localhost:8080/"
        },
        "id": "cH-mgDgL_wr3",
        "outputId": "44ea14ef-c581-4fc7-9c5f-2a0ada5687ea"
      },
      "execution_count": null,
      "outputs": [
        {
          "output_type": "stream",
          "name": "stdout",
          "text": [
            "38\n"
          ]
        }
      ]
    },
    {
      "cell_type": "code",
      "source": [
        "question = \"what are the types of testing?\""
      ],
      "metadata": {
        "id": "pZlN7maq_wu6"
      },
      "execution_count": null,
      "outputs": []
    },
    {
      "cell_type": "code",
      "source": [
        "docs = vectordb.similarity_search(question, k=2) #without MMR\n",
        "print(len(docs))\n",
        "print(docs[0].page_content)\n",
        "# print(docs[1].page_content)"
      ],
      "metadata": {
        "colab": {
          "base_uri": "https://localhost:8080/"
        },
        "id": "1d23mB6W_wxp",
        "outputId": "0b7b37b7-46d9-48a1-dda3-247d6ee8bce5"
      },
      "execution_count": null,
      "outputs": [
        {
          "output_type": "stream",
          "name": "stdout",
          "text": [
            "2\n",
            "Types\n",
            "of\n",
            "Tests\n",
            ":\n",
            "Three\n",
            "types\n",
            "of\n",
            "tests\n",
            "can\n",
            "be\n",
            "designed: \n",
            "Unit\n",
            "test,\n",
            "Integration\n",
            "test \n",
            "and \n",
            "system\n",
            "test.\n",
            "A\n",
            "unit\n",
            "test\n",
            " is\n",
            "the\n",
            "smallest\n",
            "and\n",
            "simplest\n",
            "form\n",
            "of\n",
            "software\n",
            "testing. \n",
            "These\n",
            "tests\n",
            "are\n",
            "employed\n",
            "to\n",
            "assess\n",
            "a\n",
            "separable\n",
            "unit\n",
            "of\n",
            "software\n",
            "such\n",
            "as\n",
            "a\n",
            "class\n",
            "or\n",
            "a \n",
            "function\n",
            "for\n",
            "correctness,\n",
            "independent\n",
            "of\n",
            "the\n",
            "larger\n",
            "software\n",
            "system\n",
            "composed\n",
            "of\n",
            "many \n",
            "such\n",
            "unit\n",
            "components.\n",
            "A\n",
            "unit\n",
            "test\n",
            "verifies\n",
            "and\n",
            "passes\n",
            "individual\n",
            "units\n",
            "which\n",
            "are \n",
            "assembled\n",
            "into\n",
            "larger\n",
            "components.\n",
            "The \n",
            "integration\n",
            "tests\n",
            " are\n",
            "run\n",
            "on\n",
            "an\n"
          ]
        }
      ]
    },
    {
      "cell_type": "code",
      "source": [
        "docs_with_mmr = vectordb.max_marginal_relevance_search(question, k=3, fetch_k=6)"
      ],
      "metadata": {
        "id": "EtJu9FYB_w0z"
      },
      "execution_count": null,
      "outputs": []
    },
    {
      "cell_type": "code",
      "source": [
        "docs_with_mmr[0]"
      ],
      "metadata": {
        "colab": {
          "base_uri": "https://localhost:8080/"
        },
        "id": "6KpY0ZO-_w3-",
        "outputId": "a15ee39d-a5bd-4be6-8d2c-028a57ec82a6"
      },
      "execution_count": null,
      "outputs": [
        {
          "output_type": "execute_result",
          "data": {
            "text/plain": [
              "Document(page_content='Types\\nof\\nTests\\n:\\nThree\\ntypes\\nof\\ntests\\ncan\\nbe\\ndesigned: \\nUnit\\ntest,\\nIntegration\\ntest \\nand \\nsystem\\ntest.\\nA\\nunit\\ntest\\n is\\nthe\\nsmallest\\nand\\nsimplest\\nform\\nof\\nsoftware\\ntesting. \\nThese\\ntests\\nare\\nemployed\\nto\\nassess\\na\\nseparable\\nunit\\nof\\nsoftware\\nsuch\\nas\\na\\nclass\\nor\\na \\nfunction\\nfor\\ncorrectness,\\nindependent\\nof\\nthe\\nlarger\\nsoftware\\nsystem\\ncomposed\\nof\\nmany \\nsuch\\nunit\\ncomponents.\\nA\\nunit\\ntest\\nverifies\\nand\\npasses\\nindividual\\nunits\\nwhich\\nare \\nassembled\\ninto\\nlarger\\ncomponents.\\nThe \\nintegration\\ntests\\n are\\nrun\\non\\nan', metadata={'page': 1, 'source': '/M3-W2-AST2.pdf'})"
            ]
          },
          "metadata": {},
          "execution_count": 27
        }
      ]
    },
    {
      "cell_type": "code",
      "source": [
        "docs_with_mmr[1]"
      ],
      "metadata": {
        "colab": {
          "base_uri": "https://localhost:8080/"
        },
        "id": "Zuyjlh-W_w69",
        "outputId": "b30e8eaa-6a77-4eff-bc3c-905860f38736"
      },
      "execution_count": null,
      "outputs": [
        {
          "output_type": "execute_result",
          "data": {
            "text/plain": [
              "Document(page_content='codebase\\nbetter\\nby\\nacting\\nas\\nliving\\nexamples\\nand\\nserving\\nas\\na\\nguide\\nfor\\nfuture\\ndevelopment.\\nPytest\\nis\\na\\npopular\\ntesting\\nframework\\nin\\nPython\\nthat\\nsimplifies\\nthe\\nprocess\\nof\\nwriting\\nand\\nexecuting\\ntests.\\nIt\\nprovides\\na\\nclean\\nand\\nconcise\\nsyntax\\nfor\\ndefining\\ntest\\ncases,\\nfixtures\\nfor\\ntest\\nsetup\\nand\\nteardown,\\ntest\\ndiscovery ,\\nand\\npowerful\\nassertions.\\nPytest\\nintegrates\\nwell\\nwith\\nother\\ntools\\nand\\nframeworks,\\nmaking\\nit\\na\\nvaluable\\ntool\\nfor\\nboosting\\ntesting\\nproductivity .\\nTypes\\nof\\nTests\\n:\\nThree\\ntypes\\nof\\ntests', metadata={'page': 1, 'source': '/M3-W2-AST2.pdf'})"
            ]
          },
          "metadata": {},
          "execution_count": 28
        }
      ]
    },
    {
      "cell_type": "code",
      "source": [
        "docs_with_mmr[2]"
      ],
      "metadata": {
        "colab": {
          "base_uri": "https://localhost:8080/"
        },
        "id": "KpQoBaaQ_w-C",
        "outputId": "e4b43c4f-a2f6-46e5-e742-e10df99e7f84"
      },
      "execution_count": null,
      "outputs": [
        {
          "output_type": "execute_result",
          "data": {
            "text/plain": [
              "Document(page_content=\"defects.\\n●\\n(v)\\nDocumentation\\nand\\nUnderstanding\\n:\\nTests\\nserve\\nas\\nexecutable\\ndocumentation\\nof\\nthe\\nsoftware's\\nbehavior .\\nThey\\nhelp\\ndevelopers\\nunderstand\\nthe\", metadata={'page': 0, 'source': '/M3-W2-AST2.pdf'})"
            ]
          },
          "metadata": {},
          "execution_count": 29
        }
      ]
    },
    {
      "cell_type": "code",
      "source": [
        "from langchain_community.llms import HuggingFaceEndpoint\n",
        "repo_id = \"mistralai/Mistral-7B-Instruct-v0.2\"\n",
        "llm = HuggingFaceEndpoint(\n",
        "    repo_id=repo_id, max_length=128, temperature=0.5, huggingfacehub_api_token = inference_api_key\n",
        ")"
      ],
      "metadata": {
        "colab": {
          "base_uri": "https://localhost:8080/"
        },
        "id": "SYCKctRG_xBJ",
        "outputId": "bd98ae1c-4e6a-4063-9d7f-1454077c6799"
      },
      "execution_count": null,
      "outputs": [
        {
          "output_type": "stream",
          "name": "stderr",
          "text": [
            "WARNING:langchain_community.llms.huggingface_endpoint:WARNING! max_length is not default parameter.\n",
            "                    max_length was transferred to model_kwargs.\n",
            "                    Please make sure that max_length is what you intended.\n"
          ]
        },
        {
          "output_type": "stream",
          "name": "stdout",
          "text": [
            "Token will not been saved to git credential helper. Pass `add_to_git_credential=True` if you want to set the git credential as well.\n",
            "Token is valid (permission: write).\n",
            "Your token has been saved to /root/.cache/huggingface/token\n",
            "Login successful\n"
          ]
        }
      ]
    },
    {
      "cell_type": "code",
      "source": [
        "from langchain.chains import RetrievalQA"
      ],
      "metadata": {
        "id": "Oh-4Ge3TIhWT"
      },
      "execution_count": null,
      "outputs": []
    },
    {
      "cell_type": "code",
      "source": [
        "qa_chain = RetrievalQA.from_chain_type(llm, retriever = vectordb.as_retriever(), return_source_documents = True)\n"
      ],
      "metadata": {
        "id": "sHbHEl7SIhZL"
      },
      "execution_count": null,
      "outputs": []
    },
    {
      "cell_type": "code",
      "source": [
        "result = qa_chain.invoke({\"query\":question})"
      ],
      "metadata": {
        "id": "V-X_rTUCIhfR"
      },
      "execution_count": null,
      "outputs": []
    },
    {
      "cell_type": "code",
      "source": [
        "result[\"result\"]"
      ],
      "metadata": {
        "colab": {
          "base_uri": "https://localhost:8080/",
          "height": 70
        },
        "id": "SL4XjvwXIhiH",
        "outputId": "1d29421b-91e4-42e6-d970-85c19e803728"
      },
      "execution_count": null,
      "outputs": [
        {
          "output_type": "execute_result",
          "data": {
            "text/plain": [
              "' The three types of testing are unit testing, integration testing, and system testing. Unit testing is used to assess a separable unit of software, such as a class or a function, for correctness. Integration testing is run on a codebase to test the integration of multiple components. Pytest is a popular testing framework in Python that simplifies the process of writing and executing tests. It provides a clean and concise syntax for defining test cases, fixtures for test setup and teardown, test discovery, and powerful assertions. Pytest integrates well with other tools and frameworks, making it a valuable tool for boosting testing productivity.'"
            ],
            "application/vnd.google.colaboratory.intrinsic+json": {
              "type": "string"
            }
          },
          "metadata": {},
          "execution_count": 36
        }
      ]
    },
    {
      "cell_type": "code",
      "source": [
        "result[\"source_documents\"]"
      ],
      "metadata": {
        "colab": {
          "base_uri": "https://localhost:8080/"
        },
        "id": "rTfCCKoMIhlH",
        "outputId": "58b9be5e-7190-4e99-c9c4-876b32bb4cd1"
      },
      "execution_count": null,
      "outputs": [
        {
          "output_type": "execute_result",
          "data": {
            "text/plain": [
              "[Document(page_content='Types\\nof\\nTests\\n:\\nThree\\ntypes\\nof\\ntests\\ncan\\nbe\\ndesigned: \\nUnit\\ntest,\\nIntegration\\ntest \\nand \\nsystem\\ntest.\\nA\\nunit\\ntest\\n is\\nthe\\nsmallest\\nand\\nsimplest\\nform\\nof\\nsoftware\\ntesting. \\nThese\\ntests\\nare\\nemployed\\nto\\nassess\\na\\nseparable\\nunit\\nof\\nsoftware\\nsuch\\nas\\na\\nclass\\nor\\na \\nfunction\\nfor\\ncorrectness,\\nindependent\\nof\\nthe\\nlarger\\nsoftware\\nsystem\\ncomposed\\nof\\nmany \\nsuch\\nunit\\ncomponents.\\nA\\nunit\\ntest\\nverifies\\nand\\npasses\\nindividual\\nunits\\nwhich\\nare \\nassembled\\ninto\\nlarger\\ncomponents.\\nThe \\nintegration\\ntests\\n are\\nrun\\non\\nan', metadata={'page': 1, 'source': '/M3-W2-AST2.pdf'}),\n",
              " Document(page_content='codebase\\nbetter\\nby\\nacting\\nas\\nliving\\nexamples\\nand\\nserving\\nas\\na\\nguide\\nfor\\nfuture\\ndevelopment.\\nPytest\\nis\\na\\npopular\\ntesting\\nframework\\nin\\nPython\\nthat\\nsimplifies\\nthe\\nprocess\\nof\\nwriting\\nand\\nexecuting\\ntests.\\nIt\\nprovides\\na\\nclean\\nand\\nconcise\\nsyntax\\nfor\\ndefining\\ntest\\ncases,\\nfixtures\\nfor\\ntest\\nsetup\\nand\\nteardown,\\ntest\\ndiscovery ,\\nand\\npowerful\\nassertions.\\nPytest\\nintegrates\\nwell\\nwith\\nother\\ntools\\nand\\nframeworks,\\nmaking\\nit\\na\\nvaluable\\ntool\\nfor\\nboosting\\ntesting\\nproductivity .\\nTypes\\nof\\nTests\\n:\\nThree\\ntypes\\nof\\ntests', metadata={'page': 1, 'source': '/M3-W2-AST2.pdf'}),\n",
              " Document(page_content='Packaging\\nof\\nmodel\\nINTRODUCTION\\nTesting:\\nSoftware\\ntesting\\nis\\na\\ncrucial\\npart\\nof\\nthe\\nsoftware\\ndevelopment\\nprocess.\\nIt\\ninvolves\\nexecuting\\na\\nprogram\\nor\\nsystem\\nwith\\nthe\\nintention\\nof\\nfinding\\nerrors\\nor\\nverifying\\nits\\ncompliance\\nwith\\nspecified\\nrequirements.\\nThe\\ngoal\\nof\\ntesting\\nis\\nto\\nidentify\\ndefects\\nand\\nensure\\nthat\\nthe\\nsoftware\\nfunctions\\nas\\nintended,\\nmeets\\nuser\\nexpectations,\\nand\\noperates\\nreliably\\nin\\nvarious\\nscenarios.\\nTesting\\nprovides\\nseveral\\nbenefits\\nto\\nsoftware\\ndevelopment:\\n●\\n(i)\\nError\\nDetection\\n:', metadata={'page': 0, 'source': '/M3-W2-AST2.pdf'}),\n",
              " Document(page_content=\"defects.\\n●\\n(v)\\nDocumentation\\nand\\nUnderstanding\\n:\\nTests\\nserve\\nas\\nexecutable\\ndocumentation\\nof\\nthe\\nsoftware's\\nbehavior .\\nThey\\nhelp\\ndevelopers\\nunderstand\\nthe\", metadata={'page': 0, 'source': '/M3-W2-AST2.pdf'})]"
            ]
          },
          "metadata": {},
          "execution_count": 37
        }
      ]
    },
    {
      "cell_type": "code",
      "source": [
        "question2 = \"what are the considerations with production code?\"\n",
        "result = qa_chain.invoke({\"query\":question2})\n",
        "result[\"result\"]"
      ],
      "metadata": {
        "colab": {
          "base_uri": "https://localhost:8080/",
          "height": 70
        },
        "id": "SrxwgsKgIhoQ",
        "outputId": "41cefe92-abe8-4fc6-8c28-25a8adfb8b50"
      },
      "execution_count": null,
      "outputs": [
        {
          "output_type": "execute_result",
          "data": {
            "text/plain": [
              "' Production code is designed for end users and needs to be reliable, maintainable, testable, scalable, and have version control. Considerations for production code include dividing code into modules, ensuring adherence to coding standards, and considering scalability and performance. The production code needs to be ready to be deployed to infrastructure that can be scaled, typically through containerization. Additionally, understanding the folder structure in a production environment is important.'"
            ],
            "application/vnd.google.colaboratory.intrinsic+json": {
              "type": "string"
            }
          },
          "metadata": {},
          "execution_count": 38
        }
      ]
    },
    {
      "cell_type": "code",
      "source": [
        "question3 = \"why do we need a config.yml file?\"\n",
        "result = qa_chain.invoke({\"query\":question3})\n",
        "result[\"result\"]"
      ],
      "metadata": {
        "colab": {
          "base_uri": "https://localhost:8080/",
          "height": 53
        },
        "id": "1zdtRgDtJ3c6",
        "outputId": "9595acf1-0ab6-4485-bc5c-2697c988ed32"
      },
      "execution_count": null,
      "outputs": [
        {
          "output_type": "execute_result",
          "data": {
            "text/plain": [
              "' The config.yml file is used by the coro.py script to set up the paths for the dataset folder, trained models, and other necessary configurations. It is an external file that provides customizable configuration settings for the script.'"
            ],
            "application/vnd.google.colaboratory.intrinsic+json": {
              "type": "string"
            }
          },
          "metadata": {},
          "execution_count": 39
        }
      ]
    },
    {
      "cell_type": "code",
      "source": [
        "question4 = \"what happens when I don't run  pip install -r requirements.txt?\"\n",
        "result = qa_chain.invoke({\"query\":question4})\n",
        "result[\"result\"]"
      ],
      "metadata": {
        "colab": {
          "base_uri": "https://localhost:8080/",
          "height": 53
        },
        "id": "rkb_ghiHJ3fy",
        "outputId": "b0b9e757-d0dc-4cf0-d3e7-a2036d6f9d9a"
      },
      "execution_count": null,
      "outputs": [
        {
          "output_type": "execute_result",
          "data": {
            "text/plain": [
              "' If you don\\'t run \"pip install -r requirements.txt\" after creating the virtual environment, some necessary dependencies for the project might not be installed. This could lead to errors when running the code. It\\'s important to ensure that all required dependencies are installed for the project to function correctly.'"
            ],
            "application/vnd.google.colaboratory.intrinsic+json": {
              "type": "string"
            }
          },
          "metadata": {},
          "execution_count": 40
        }
      ]
    },
    {
      "cell_type": "code",
      "source": [
        "question5 = \"testing is such a boring thing how can I skip it?\"\n",
        "result = qa_chain.invoke({\"query\":question5})\n",
        "result[\"result\"]"
      ],
      "metadata": {
        "colab": {
          "base_uri": "https://localhost:8080/",
          "height": 87
        },
        "id": "FZzuBl2dJ3ps",
        "outputId": "c930d01a-193a-4dba-a28d-7a6bb9948526"
      },
      "execution_count": null,
      "outputs": [
        {
          "output_type": "execute_result",
          "data": {
            "text/plain": [
              "\" While testing is an essential part of software development, there are some ways to make it more enjoyable and less tedious. You can try automating your tests using tools like Pytest, which simplifies the testing process and saves time. Additionally, you can write tests in a fun and creative way, or work on testing projects with a team to make it more collaborative and engaging. However, if you're looking to completely skip testing, it's important to understand that doing so increases the risk of introducing bugs and other issues, which can lead to more significant problems down the line. It's always better to embrace testing as a crucial part of software development and find ways to make it more enjoyable and efficient.\""
            ],
            "application/vnd.google.colaboratory.intrinsic+json": {
              "type": "string"
            }
          },
          "metadata": {},
          "execution_count": 41
        }
      ]
    },
    {
      "cell_type": "code",
      "source": [
        "!pip -q install gradio"
      ],
      "metadata": {
        "colab": {
          "base_uri": "https://localhost:8080/"
        },
        "id": "TxPI7NlGJ3so",
        "outputId": "7af422e0-b670-4be3-b1b1-ab65744abad8"
      },
      "execution_count": null,
      "outputs": [
        {
          "output_type": "stream",
          "name": "stdout",
          "text": [
            "\u001b[2K     \u001b[90m━━━━━━━━━━━━━━━━━━━━━━━━━━━━━━━━━━━━━━━━\u001b[0m \u001b[32m17.1/17.1 MB\u001b[0m \u001b[31m60.9 MB/s\u001b[0m eta \u001b[36m0:00:00\u001b[0m\n",
            "\u001b[?25h  Preparing metadata (setup.py) ... \u001b[?25l\u001b[?25hdone\n",
            "\u001b[2K     \u001b[90m━━━━━━━━━━━━━━━━━━━━━━━━━━━━━━━━━━━━━━━━\u001b[0m \u001b[32m313.6/313.6 kB\u001b[0m \u001b[31m40.7 MB/s\u001b[0m eta \u001b[36m0:00:00\u001b[0m\n",
            "\u001b[2K     \u001b[90m━━━━━━━━━━━━━━━━━━━━━━━━━━━━━━━━━━━━━━━━\u001b[0m \u001b[32m8.9/8.9 MB\u001b[0m \u001b[31m94.8 MB/s\u001b[0m eta \u001b[36m0:00:00\u001b[0m\n",
            "\u001b[2K     \u001b[90m━━━━━━━━━━━━━━━━━━━━━━━━━━━━━━━━━━━━━━━━\u001b[0m \u001b[32m129.9/129.9 kB\u001b[0m \u001b[31m20.3 MB/s\u001b[0m eta \u001b[36m0:00:00\u001b[0m\n",
            "\u001b[?25h  Building wheel for ffmpy (setup.py) ... \u001b[?25l\u001b[?25hdone\n"
          ]
        }
      ]
    },
    {
      "cell_type": "code",
      "source": [
        "def generate_query_response(prompt, max_length=200):\n",
        "    result = qa_chain.invoke({\"query\": prompt})\n",
        "    return result['result']"
      ],
      "metadata": {
        "id": "GP4YZSe8J3ye"
      },
      "execution_count": null,
      "outputs": []
    },
    {
      "cell_type": "code",
      "source": [
        "# Gradio elements\n",
        "\n",
        "# Input from user\n",
        "in_prompt = \"Why is Production code different from academic/research code?\"\n",
        "in_max_length = 500\n",
        "\n",
        "# Output response\n",
        "out_response = generate_query_response(in_prompt, in_max_length)"
      ],
      "metadata": {
        "id": "IKrLpeR0WaMT"
      },
      "execution_count": null,
      "outputs": []
    },
    {
      "cell_type": "code",
      "source": [
        "# Gradio interface to generate UI link\n",
        "import gradio\n",
        "iface = gradio.Interface( fn=generate_query_response,\n",
        "                    inputs=[\"textbox\", \"number\"],\n",
        "                    outputs=\"textbox\",\n",
        "                    title=\"LangChain with RAG\",\n",
        "                    description=\"Mini Project 3\",\n",
        "                    allow_flagging=\"never\", )\n",
        "\n",
        "iface.launch()"
      ],
      "metadata": {
        "colab": {
          "base_uri": "https://localhost:8080/",
          "height": 626
        },
        "id": "5XYiRiXTWfPw",
        "outputId": "52ac756b-01f8-4e4c-8e8c-e24bb561314d"
      },
      "execution_count": null,
      "outputs": [
        {
          "output_type": "stream",
          "name": "stdout",
          "text": [
            "Setting queue=True in a Colab notebook requires sharing enabled. Setting `share=True` (you can turn this off by setting `share=False` in `launch()` explicitly).\n",
            "\n",
            "Colab notebook detected. To show errors in colab notebook, set debug=True in launch()\n",
            "Running on public URL: https://75938561cc9a93d0cb.gradio.live\n",
            "\n",
            "This share link expires in 72 hours. For free permanent hosting and GPU upgrades, run `gradio deploy` from Terminal to deploy to Spaces (https://huggingface.co/spaces)\n"
          ]
        },
        {
          "output_type": "display_data",
          "data": {
            "text/plain": [
              "<IPython.core.display.HTML object>"
            ],
            "text/html": [
              "<div><iframe src=\"https://75938561cc9a93d0cb.gradio.live\" width=\"100%\" height=\"500\" allow=\"autoplay; camera; microphone; clipboard-read; clipboard-write;\" frameborder=\"0\" allowfullscreen></iframe></div>"
            ]
          },
          "metadata": {}
        },
        {
          "output_type": "execute_result",
          "data": {
            "text/plain": []
          },
          "metadata": {},
          "execution_count": 67
        }
      ]
    }
  ]
}